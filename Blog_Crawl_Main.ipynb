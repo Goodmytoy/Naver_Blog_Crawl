{
 "cells": [
  {
   "cell_type": "code",
   "execution_count": 1,
   "metadata": {},
   "outputs": [],
   "source": [
    "from Naver_Blog_Crawl import *\n",
    "from multiprocessing_on_dill import Pool, cpu_count\n",
    "from functools import partial\n",
    "# from tqdm import tqdm\n",
    "import pandas as pd\n",
    "import numpy as np\n",
    "import sys\n",
    "import os\n",
    "import lxml"
   ]
  },
  {
   "cell_type": "code",
   "execution_count": 2,
   "metadata": {},
   "outputs": [],
   "source": [
    "with open(\"search_keywords.pkl\", \"rb\") as f:\n",
    "    search_keywords = pickle.load(f)"
   ]
  },
  {
   "cell_type": "code",
   "execution_count": 3,
   "metadata": {},
   "outputs": [],
   "source": [
    "np.random.shuffle(search_keywords)"
   ]
  },
  {
   "cell_type": "code",
   "execution_count": 4,
   "metadata": {},
   "outputs": [],
   "source": [
    "num_cores = 40\n",
    "search_keywords_split = np.array_split(search_keywords, num_cores)"
   ]
  },
  {
   "cell_type": "code",
   "execution_count": 5,
   "metadata": {},
   "outputs": [],
   "source": [
    "def collect_blog(keywords):\n",
    "    naver_blog_crawl = NaverBlogCrawl()\n",
    "    return naver_blog_crawl.collect_blog(keywords, keywords_start_idx = 0, num_blogs = 100)"
   ]
  },
  {
   "cell_type": "code",
   "execution_count": 8,
   "metadata": {},
   "outputs": [],
   "source": [
    "blogId = \"2hailin\"\n",
    "logNoList = \"222658923116\"\n",
    "params_dict = {\"blogId\" : blogId,\n",
    "                \"logNoList\" : logNoList,\n",
    "                \"logType\" : \"mylog\"}\n",
    "base_url = \"https://blog.naver.com/BlogTagListInfo.naver\"\n",
    "rq = requests_retry_session().get(base_url, params = params_dict)\n",
    "rq.json()"
   ]
  },
  {
   "cell_type": "code",
   "execution_count": null,
   "metadata": {},
   "outputs": [],
   "source": [
    "with Pool(num_cores) as p:\n",
    "    results_async=p.map_async(collect_blog, search_keywords_split)\n",
    "    results_async.get()"
   ]
  },
  {
   "cell_type": "code",
   "execution_count": 12,
   "metadata": {},
   "outputs": [
    {
     "data": {
      "text/plain": [
       "{'A': 123, 'B': 223}"
      ]
     },
     "execution_count": 12,
     "metadata": {},
     "output_type": "execute_result"
    }
   ],
   "source": [
    "temp = {\"A\" : 123}\n",
    "temp2 = {\"B\" : 223}\n",
    "temp.update(temp2)\n",
    "temp"
   ]
  },
  {
   "cell_type": "code",
   "execution_count": null,
   "metadata": {},
   "outputs": [],
   "source": [
    "naver_blog_crawl = NaverBlogCrawl()\n",
    "result = naver_blog_crawl.collect_blog(search_keywords[:4], keywords_start_idx = 0, num_blogs= 1)\n",
    "pd.DataFrame(result).to_excel(\"temp.xlsx\")"
   ]
  },
  {
   "cell_type": "code",
   "execution_count": null,
   "metadata": {},
   "outputs": [],
   "source": [
    "naver_blog_crawl = NaverBlogCrawl() # 23.8\n",
    "result = naver_blog_crawl.collect_blog(\"LG스탠바이미\")"
   ]
  },
  {
   "cell_type": "code",
   "execution_count": 13,
   "metadata": {},
   "outputs": [],
   "source": [
    "def merge_dict(org_dict:dict, new_dict:dict, type:str = \"full\"):\n",
    "    if type == \"full\":\n",
    "        keys = pd.unique(list(org_dict.keys()) + list(new_dict.keys()))\n",
    "    elif type == \"left\":\n",
    "        keys = list(org_dict.keys())\n",
    "    elif type == \"right\":\n",
    "        keys = list(new_dict.keys())\n",
    "\n",
    "\n",
    "    for key in keys:\n",
    "        if isinstance(new_dict[key], list):\n",
    "            org_dict[key].extend(new_dict[key])\n",
    "        else:\n",
    "            org_dict[key].append(new_dict[key])\n",
    "    \n",
    "    return org_dict"
   ]
  },
  {
   "cell_type": "code",
   "execution_count": 15,
   "metadata": {},
   "outputs": [],
   "source": [
    "result_dict = defaultdict(list)\n",
    "blog_dicts = os.listdir(\"./blog_dict\")\n",
    "for x in blog_dicts:\n",
    "    with open(f\"./blog_dict/{x}\", \"rb\") as f:\n",
    "        blog_dict = pickle.load(f)\n",
    "        result_dict = merge_dict(result_dict, blog_dict)"
   ]
  },
  {
   "cell_type": "code",
   "execution_count": 17,
   "metadata": {},
   "outputs": [],
   "source": [
    "pd.DataFrame(result_dict).to_parquet(\"blog_data_220312.parquet\", index = False)"
   ]
  },
  {
   "cell_type": "code",
   "execution_count": 19,
   "metadata": {},
   "outputs": [],
   "source": [
    "pd.DataFrame(result_dict).to_excel(\"blog_data_220312.xlsx\", index = False, encoding = \"CP949\")"
   ]
  },
  {
   "cell_type": "code",
   "execution_count": 6,
   "metadata": {},
   "outputs": [],
   "source": [
    "blog_rq = requests.get(\"https://blog.naver.com/PostView.naver?blogId=kkalgid1&logNo=221362946932&from=search&redirect=Log&widgetTypeCall=true&directAccess=false\")\n",
    "blog_dom = etree.HTML(blog_rq.text)"
   ]
  },
  {
   "cell_type": "code",
   "execution_count": 7,
   "metadata": {},
   "outputs": [],
   "source": [
    "blog_body = blog_dom.find(\".//div[@class='se_component_wrap sect_dsc __se_component_area']\")"
   ]
  },
  {
   "cell_type": "code",
   "execution_count": 8,
   "metadata": {},
   "outputs": [],
   "source": [
    "blog_img_txt = blog_body.xpath(\".//div[re:match(@class, 'se_component se_(paragraph|image) default')]\", \n",
    "                                       namespaces={\"re\": \"http://exslt.org/regular-expressions\"})        "
   ]
  },
  {
   "cell_type": "code",
   "execution_count": 26,
   "metadata": {},
   "outputs": [
    {
     "data": {
      "text/plain": [
       "False"
      ]
     },
     "execution_count": 26,
     "metadata": {},
     "output_type": "execute_result"
    }
   ],
   "source": [
    "x = blog_img_txt[8]\n",
    "re.search(r\"se_paragraph\", x.attrib[\"class\"]) is not None"
   ]
  },
  {
   "cell_type": "code",
   "execution_count": 27,
   "metadata": {},
   "outputs": [
    {
     "data": {
      "text/plain": [
       "'\\n\\t\\t\\t'"
      ]
     },
     "execution_count": 27,
     "metadata": {},
     "output_type": "execute_result"
    }
   ],
   "source": [
    "x.text"
   ]
  },
  {
   "cell_type": "code",
   "execution_count": null,
   "metadata": {},
   "outputs": [],
   "source": []
  }
 ],
 "metadata": {
  "interpreter": {
   "hash": "73f196f773af5fbd95c881efc055c31e1fbc09b8f7bf4555cd55ab03a588f4bb"
  },
  "kernelspec": {
   "display_name": "Python 3.9.1 64-bit",
   "language": "python",
   "name": "python3"
  },
  "language_info": {
   "codemirror_mode": {
    "name": "ipython",
    "version": 3
   },
   "file_extension": ".py",
   "mimetype": "text/x-python",
   "name": "python",
   "nbconvert_exporter": "python",
   "pygments_lexer": "ipython3",
   "version": "3.8.10"
  },
  "orig_nbformat": 4
 },
 "nbformat": 4,
 "nbformat_minor": 2
}
