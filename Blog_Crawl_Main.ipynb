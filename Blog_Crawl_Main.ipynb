{
 "cells": [
  {
   "cell_type": "code",
   "execution_count": 1,
   "metadata": {},
   "outputs": [],
   "source": [
    "%load_ext autoreload\n",
    "%autoreload 2\n",
    "from Naver_Blog_Crawl import *\n",
    "from multiprocessing_on_dill import Pool, cpu_count\n",
    "from functools import partial\n",
    "# from tqdm import tqdm\n",
    "import pandas as pd\n",
    "import numpy as np\n",
    "import sys\n",
    "import os\n",
    "import lxml\n",
    "from collections import defaultdict"
   ]
  },
  {
   "cell_type": "code",
   "execution_count": 133,
   "metadata": {},
   "outputs": [],
   "source": [
    "class Naver_Blog:\n",
    "    base_url = \"https://section.blog.naver.com/ajax/SearchList.naver\"\n",
    "    def __init__(self):\n",
    "        pass\n",
    "\n",
    "    def create_params(self, keyword, page = 1, size = 30):\n",
    "        params = {\"countPerPage\" : size,\n",
    "                \"currentPage\" : page,\n",
    "                \"keyword\" : keyword,\n",
    "                \"orderBy\" : \"sim\", \n",
    "                \"type\" : \"post\"}\n",
    "            \n",
    "        return params\n",
    "\n",
    "    def create_headers(self, keyword):\n",
    "        enc_keyword = urllib.parse.quote(keyword)\n",
    "        headers = {\"user-agent\" : \"Mozilla/5.0 (Macintosh; Intel Mac OS X 10_15_7) AppleWebKit/537.36 (KHTML, like Gecko) Chrome/108.0.0.0 Safari/537.36\",\n",
    "                   \"Referer\" : f\"https://section.blog.naver.com/Search/Post.naver?pageNo=1&rangeType=ALL&orderBy=sim&keyword={enc_keyword}\",\n",
    "                   \"host\" : \"section.blog.naver.com\"\n",
    "                   }\n",
    "\n",
    "        return headers\n",
    "\n",
    "    def extract_contents(self, rq):\n",
    "        json_rq = json.loads(re.search(\"\\{\\\"result\\\":.*\", rq.text)[0])\n",
    "        contents_list = json_rq.get(\"result\").get(\"searchList\")\n",
    "        \n",
    "        return contents_list \n",
    "\n",
    "    def extract_total_count(self, rq):\n",
    "        json_rq = json.loads(re.search(\"\\{\\\"result\\\":.*\", rq.text)[0])\n",
    "        total_count = json_rq.get(\"result\").get(\"totalCount\")\n",
    "        \n",
    "        return int(total_count)\n",
    "\n",
    "    def request_content(self, keyword, page = 1, size = 30):\n",
    "        params = self.create_params(keyword = keyword, page = page, size = size)\n",
    "        headers = self.create_headers(keyword)\n",
    "        rq = requests.get(self.base_url, params = params, headers = headers, verify = False)\n",
    "\n",
    "        return rq\n",
    "\n",
    "    def request_contents(self, keyword, max_contents_num = 1000):\n",
    "        self.contents_list = []\n",
    "        size = 30\n",
    "        temp_rq = self.request_content(keyword, page = 1, size = 1)\n",
    "        total_count = self.extract_total_count(temp_rq)\n",
    "        print(total_count)\n",
    "        total_count = min(total_count, max_contents_num)\n",
    "\n",
    "        page_num = total_count // size\n",
    "        remainder = total_count % size\n",
    "\n",
    "        for p in tqdm(range(1, page_num+1)):\n",
    "            if p < 7595:\n",
    "                continue\n",
    "            time.sleep(0.3)\n",
    "            rq = self.request_content(keyword, page = p, size = size)\n",
    "            rq_contents = self.extract_contents(rq)\n",
    "\n",
    "            self.contents_list.extend(rq_contents) \n",
    "\n",
    "        return self.contents_list"
   ]
  },
  {
   "cell_type": "code",
   "execution_count": 134,
   "metadata": {},
   "outputs": [],
   "source": [
    "nb = Naver_Blog()"
   ]
  },
  {
   "cell_type": "code",
   "execution_count": 132,
   "metadata": {},
   "outputs": [],
   "source": [
    "with open(\"contents_list_240226.pkl\", \"wb\") as f:\n",
    "    pickle.dump(nb.contents_list, f)"
   ]
  },
  {
   "cell_type": "code",
   "execution_count": 135,
   "metadata": {},
   "outputs": [
    {
     "name": "stdout",
     "output_type": "stream",
     "text": [
      "689457\n"
     ]
    },
    {
     "name": "stderr",
     "output_type": "stream",
     "text": [
      " 79%|███████▊  | 7873/10000 [02:36<13:05,  2.71it/s]   "
     ]
    }
   ],
   "source": [
    "result = nb.request_contents(keyword = \"식기세척기\",  max_contents_num = 300000)"
   ]
  },
  {
   "cell_type": "code",
   "execution_count": 120,
   "metadata": {},
   "outputs": [],
   "source": [
    "result_df = pd.DataFrame(result)"
   ]
  },
  {
   "cell_type": "code",
   "execution_count": null,
   "metadata": {},
   "outputs": [],
   "source": [
    "datetime.datetime.fromtimestamp(timestamp/1000)"
   ]
  },
  {
   "cell_type": "code",
   "execution_count": 95,
   "metadata": {},
   "outputs": [
    {
     "data": {
      "text/html": [
       "<div>\n",
       "<style scoped>\n",
       "    .dataframe tbody tr th:only-of-type {\n",
       "        vertical-align: middle;\n",
       "    }\n",
       "\n",
       "    .dataframe tbody tr th {\n",
       "        vertical-align: top;\n",
       "    }\n",
       "\n",
       "    .dataframe thead th {\n",
       "        text-align: right;\n",
       "    }\n",
       "</style>\n",
       "<table border=\"1\" class=\"dataframe\">\n",
       "  <thead>\n",
       "    <tr style=\"text-align: right;\">\n",
       "      <th></th>\n",
       "      <th>domainIdOrBlogId</th>\n",
       "      <th>logNo</th>\n",
       "      <th>gdid</th>\n",
       "      <th>postUrl</th>\n",
       "      <th>title</th>\n",
       "      <th>noTagTitle</th>\n",
       "      <th>contents</th>\n",
       "      <th>nickName</th>\n",
       "      <th>blogName</th>\n",
       "      <th>profileImgUrl</th>\n",
       "      <th>addDate</th>\n",
       "      <th>thumbnails</th>\n",
       "      <th>product</th>\n",
       "      <th>hasThumbnail</th>\n",
       "      <th>marketPost</th>\n",
       "      <th>datetime</th>\n",
       "    </tr>\n",
       "  </thead>\n",
       "  <tbody>\n",
       "    <tr>\n",
       "      <th>0</th>\n",
       "      <td>tkdtndkfma13</td>\n",
       "      <td>223251058543</td>\n",
       "      <td>90000003_0000000000000033FACCCF6F</td>\n",
       "      <td>https://blog.naver.com/tkdtndkfma13/223251058543</td>\n",
       "      <td>kokr/news/other/10%EB%&lt;strong class=\"search_ke...</td>\n",
       "      <td>https://www.msn.com/kokr/news/other/10%EB%8B%A...</td>\n",
       "      <td>https://www.msn.com/ko-kr/news/other/10%EB%&lt;st...</td>\n",
       "      <td>갓슈벨아이엠스타</td>\n",
       "      <td>갓슈벨아이카츠레지던트이블연재만화1</td>\n",
       "      <td>https://blogpfthumb-phinf.pstatic.net/MjAyMDA1...</td>\n",
       "      <td>1698677340000</td>\n",
       "      <td>[]</td>\n",
       "      <td>None</td>\n",
       "      <td>False</td>\n",
       "      <td>False</td>\n",
       "      <td>2023-10-30 23:49:00</td>\n",
       "    </tr>\n",
       "    <tr>\n",
       "      <th>1</th>\n",
       "      <td>stardriver</td>\n",
       "      <td>223165478757</td>\n",
       "      <td>90000003_0000000000000033F5B2F765</td>\n",
       "      <td>https://blog.naver.com/stardriver/223165478757</td>\n",
       "      <td>articles/84616972#:~:text=%E4%&lt;strong class=\"s...</td>\n",
       "      <td>https://news.zum.com/articles/84616972#:~:text...</td>\n",
       "      <td>https://news.zum.com/articles/84616972#:~:text...</td>\n",
       "      <td>사공</td>\n",
       "      <td>동학세상</td>\n",
       "      <td>https://blogpfthumb-phinf.pstatic.net/data35/2...</td>\n",
       "      <td>1690251540000</td>\n",
       "      <td>[]</td>\n",
       "      <td>None</td>\n",
       "      <td>False</td>\n",
       "      <td>False</td>\n",
       "      <td>2023-07-25 11:19:00</td>\n",
       "    </tr>\n",
       "    <tr>\n",
       "      <th>2</th>\n",
       "      <td>yhoouonng</td>\n",
       "      <td>223285311876</td>\n",
       "      <td>90000003_0000000000000033FCD77984</td>\n",
       "      <td>https://blog.naver.com/yhoouonng/223285311876</td>\n",
       "      <td>ko/resource/5364371/2-&lt;strong class=\"search_ke...</td>\n",
       "      <td>https://wordwall.net/ko/resource/5364371/2-%EC...</td>\n",
       "      <td>https://wordwall.net/ko/resource/5364371/2-&lt;st...</td>\n",
       "      <td>랑</td>\n",
       "      <td>-</td>\n",
       "      <td>None</td>\n",
       "      <td>1701904800000</td>\n",
       "      <td>[]</td>\n",
       "      <td>None</td>\n",
       "      <td>False</td>\n",
       "      <td>False</td>\n",
       "      <td>2023-12-07 08:20:00</td>\n",
       "    </tr>\n",
       "    <tr>\n",
       "      <th>3</th>\n",
       "      <td>bjbj4423</td>\n",
       "      <td>223328352352</td>\n",
       "      <td>90000003_0000000000000033FF683860</td>\n",
       "      <td>https://blog.naver.com/bjbj4423/223328352352</td>\n",
       "      <td>&lt;strong class=\"search_keyword\"&gt;%EC%&lt;/strong&gt;&lt;s...</td>\n",
       "      <td>%EC%84%B8%EC%83%81%EC%9D%84%20%EB%B0%94%EA%BE%...</td>\n",
       "      <td>보면서 생각을 하지않고 다만 본다. 돈을 벌어야 하는 이유를 하나 봤다. 아니 이들...</td>\n",
       "      <td>행복선택</td>\n",
       "      <td>선택,행복</td>\n",
       "      <td>None</td>\n",
       "      <td>1705729500000</td>\n",
       "      <td>[]</td>\n",
       "      <td>None</td>\n",
       "      <td>False</td>\n",
       "      <td>False</td>\n",
       "      <td>2024-01-20 14:45:00</td>\n",
       "    </tr>\n",
       "    <tr>\n",
       "      <th>4</th>\n",
       "      <td>tkdtndkfma13</td>\n",
       "      <td>223265326176</td>\n",
       "      <td>90000003_0000000000000033FBA68460</td>\n",
       "      <td>https://blog.naver.com/tkdtndkfma13/223265326176</td>\n",
       "      <td>q=%ED%98%&lt;strong class=\"search_keyword\"&gt;84%&lt;/s...</td>\n",
       "      <td>https://www.bing.com/search?q=%ED%98%84%EB%8C%...</td>\n",
       "      <td>&lt;strong class=\"search_keyword\"&gt;B0%&lt;/strong&gt;&lt;st...</td>\n",
       "      <td>갓슈벨아이엠스타</td>\n",
       "      <td>갓슈벨아이카츠레지던트이블연재만화1</td>\n",
       "      <td>https://blogpfthumb-phinf.pstatic.net/MjAyMDA1...</td>\n",
       "      <td>1700016480000</td>\n",
       "      <td>[{'url': 'https://blogthumb.pstatic.net/MjAyMz...</td>\n",
       "      <td>None</td>\n",
       "      <td>True</td>\n",
       "      <td>False</td>\n",
       "      <td>2023-11-15 11:48:00</td>\n",
       "    </tr>\n",
       "    <tr>\n",
       "      <th>...</th>\n",
       "      <td>...</td>\n",
       "      <td>...</td>\n",
       "      <td>...</td>\n",
       "      <td>...</td>\n",
       "      <td>...</td>\n",
       "      <td>...</td>\n",
       "      <td>...</td>\n",
       "      <td>...</td>\n",
       "      <td>...</td>\n",
       "      <td>...</td>\n",
       "      <td>...</td>\n",
       "      <td>...</td>\n",
       "      <td>...</td>\n",
       "      <td>...</td>\n",
       "      <td>...</td>\n",
       "      <td>...</td>\n",
       "    </tr>\n",
       "    <tr>\n",
       "      <th>985</th>\n",
       "      <td>hhyoun49</td>\n",
       "      <td>223213095241</td>\n",
       "      <td>90000003_0000000000000033F8898949</td>\n",
       "      <td>https://blog.naver.com/hhyoun49/223213095241</td>\n",
       "      <td>캡슐세탁세제 일비아 실내건조세탁세제 버블코튼향이 가득해요</td>\n",
       "      <td>캡슐세탁세제 일비아 실내건조세탁세제 버블코튼향이 가득해요</td>\n",
       "      <td>없고 고급진 향으로 세탁자체만으로도 기분좋아지게 하니 이보다 더 만족스러울수가 없네...</td>\n",
       "      <td>코발트블루</td>\n",
       "      <td>코발트블루의 소소한이야기들</td>\n",
       "      <td>https://blogpfthumb-phinf.pstatic.net/20110327...</td>\n",
       "      <td>1694842260000</td>\n",
       "      <td>[{'url': 'https://blogthumb.pstatic.net/MjAyMz...</td>\n",
       "      <td>None</td>\n",
       "      <td>True</td>\n",
       "      <td>False</td>\n",
       "      <td>2023-09-16 14:31:00</td>\n",
       "    </tr>\n",
       "    <tr>\n",
       "      <th>986</th>\n",
       "      <td>nwairr</td>\n",
       "      <td>221528835438</td>\n",
       "      <td>90000003_00000000000000339425C56E</td>\n",
       "      <td>https://blog.naver.com/nwairr/221528835438</td>\n",
       "      <td>중도 퇴사자가 5월에 개인이 연말정산 하는방법 ②_2019년 종합소득세신고</td>\n",
       "      <td>중도 퇴사자가 5월에 개인이 연말정산 하는방법 ②_2019년 종합소득세신고</td>\n",
       "      <td>원문출처 https://nwairr.tistory.com/entry/&lt;strong ...</td>\n",
       "      <td>nwairr</td>\n",
       "      <td>도전하지 않는다면 실패조차 할 수 없다</td>\n",
       "      <td>https://blogpfthumb-phinf.pstatic.net/data33/2...</td>\n",
       "      <td>1556866800000</td>\n",
       "      <td>[{'url': 'https://blogthumb.pstatic.net/MjAxOT...</td>\n",
       "      <td>None</td>\n",
       "      <td>True</td>\n",
       "      <td>False</td>\n",
       "      <td>2019-05-03 16:00:00</td>\n",
       "    </tr>\n",
       "    <tr>\n",
       "      <th>987</th>\n",
       "      <td>j08m278</td>\n",
       "      <td>223351750860</td>\n",
       "      <td>90000003_000000000000003400CD40CC</td>\n",
       "      <td>https://blog.naver.com/j08m278/223351750860</td>\n",
       "      <td>새벳돈도 시대의 흐름에 따라</td>\n",
       "      <td>새벳돈도 시대의 흐름에 따라</td>\n",
       "      <td>all&amp;amp;query=&lt;strong class=\"search_keyword\"&gt;%...</td>\n",
       "      <td>357</td>\n",
       "      <td>j08m278님의블로그</td>\n",
       "      <td>https://blogpfthumb-phinf.pstatic.net/MjAxOTAz...</td>\n",
       "      <td>1707776220000</td>\n",
       "      <td>[{'url': 'https://blogthumb.pstatic.net/MjAyND...</td>\n",
       "      <td>None</td>\n",
       "      <td>True</td>\n",
       "      <td>False</td>\n",
       "      <td>2024-02-13 07:17:00</td>\n",
       "    </tr>\n",
       "    <tr>\n",
       "      <th>988</th>\n",
       "      <td>cafeplanet</td>\n",
       "      <td>223287485385</td>\n",
       "      <td>90000003_0000000000000033FCF8A3C9</td>\n",
       "      <td>https://blog.naver.com/cafeplanet/223287485385</td>\n",
       "      <td>애플 생태계에 대한 사용기 - 맥, 아이패드, 아이폰, 애플워치는 유저 용이 아니라...</td>\n",
       "      <td>애플 생태계에 대한 사용기 - 맥, 아이패드, 아이폰, 애플워치는 유저 용이 아니라...</td>\n",
       "      <td>82%AC&lt;strong class=\"search_keyword\"&gt;%EC%&lt;/stro...</td>\n",
       "      <td>정작가</td>\n",
       "      <td>정작가의 이야기공방</td>\n",
       "      <td>https://blogpfthumb-phinf.pstatic.net/MjAxNzA3...</td>\n",
       "      <td>1702092120000</td>\n",
       "      <td>[{'url': 'https://blogthumb.pstatic.net/MjAyMz...</td>\n",
       "      <td>None</td>\n",
       "      <td>True</td>\n",
       "      <td>False</td>\n",
       "      <td>2023-12-09 12:22:00</td>\n",
       "    </tr>\n",
       "    <tr>\n",
       "      <th>989</th>\n",
       "      <td>freeksyoung</td>\n",
       "      <td>223362749707</td>\n",
       "      <td>90000003_00000000000000340175150B</td>\n",
       "      <td>https://blog.naver.com/freeksyoung/223362749707</td>\n",
       "      <td>vpavqxcuungufltjslnautqzxjugjhnowghmr</td>\n",
       "      <td>vpavqxcuungufltjslnautqzxjugjhnowghmr</td>\n",
       "      <td>e&lt;strong class=\"search_keyword\"&gt;2%&lt;/strong&gt;a5%...</td>\n",
       "      <td>별이</td>\n",
       "      <td>으랏차차~~</td>\n",
       "      <td>None</td>\n",
       "      <td>1708659480000</td>\n",
       "      <td>[]</td>\n",
       "      <td>None</td>\n",
       "      <td>False</td>\n",
       "      <td>False</td>\n",
       "      <td>2024-02-23 12:38:00</td>\n",
       "    </tr>\n",
       "  </tbody>\n",
       "</table>\n",
       "<p>990 rows × 16 columns</p>\n",
       "</div>"
      ],
      "text/plain": [
       "    domainIdOrBlogId         logNo                               gdid  \\\n",
       "0       tkdtndkfma13  223251058543  90000003_0000000000000033FACCCF6F   \n",
       "1         stardriver  223165478757  90000003_0000000000000033F5B2F765   \n",
       "2          yhoouonng  223285311876  90000003_0000000000000033FCD77984   \n",
       "3           bjbj4423  223328352352  90000003_0000000000000033FF683860   \n",
       "4       tkdtndkfma13  223265326176  90000003_0000000000000033FBA68460   \n",
       "..               ...           ...                                ...   \n",
       "985         hhyoun49  223213095241  90000003_0000000000000033F8898949   \n",
       "986           nwairr  221528835438  90000003_00000000000000339425C56E   \n",
       "987          j08m278  223351750860  90000003_000000000000003400CD40CC   \n",
       "988       cafeplanet  223287485385  90000003_0000000000000033FCF8A3C9   \n",
       "989      freeksyoung  223362749707  90000003_00000000000000340175150B   \n",
       "\n",
       "                                              postUrl  \\\n",
       "0    https://blog.naver.com/tkdtndkfma13/223251058543   \n",
       "1      https://blog.naver.com/stardriver/223165478757   \n",
       "2       https://blog.naver.com/yhoouonng/223285311876   \n",
       "3        https://blog.naver.com/bjbj4423/223328352352   \n",
       "4    https://blog.naver.com/tkdtndkfma13/223265326176   \n",
       "..                                                ...   \n",
       "985      https://blog.naver.com/hhyoun49/223213095241   \n",
       "986        https://blog.naver.com/nwairr/221528835438   \n",
       "987       https://blog.naver.com/j08m278/223351750860   \n",
       "988    https://blog.naver.com/cafeplanet/223287485385   \n",
       "989   https://blog.naver.com/freeksyoung/223362749707   \n",
       "\n",
       "                                                 title  \\\n",
       "0    kokr/news/other/10%EB%<strong class=\"search_ke...   \n",
       "1    articles/84616972#:~:text=%E4%<strong class=\"s...   \n",
       "2    ko/resource/5364371/2-<strong class=\"search_ke...   \n",
       "3    <strong class=\"search_keyword\">%EC%</strong><s...   \n",
       "4    q=%ED%98%<strong class=\"search_keyword\">84%</s...   \n",
       "..                                                 ...   \n",
       "985                    캡슐세탁세제 일비아 실내건조세탁세제 버블코튼향이 가득해요   \n",
       "986          중도 퇴사자가 5월에 개인이 연말정산 하는방법 ②_2019년 종합소득세신고   \n",
       "987                                    새벳돈도 시대의 흐름에 따라   \n",
       "988  애플 생태계에 대한 사용기 - 맥, 아이패드, 아이폰, 애플워치는 유저 용이 아니라...   \n",
       "989              vpavqxcuungufltjslnautqzxjugjhnowghmr   \n",
       "\n",
       "                                            noTagTitle  \\\n",
       "0    https://www.msn.com/kokr/news/other/10%EB%8B%A...   \n",
       "1    https://news.zum.com/articles/84616972#:~:text...   \n",
       "2    https://wordwall.net/ko/resource/5364371/2-%EC...   \n",
       "3    %EC%84%B8%EC%83%81%EC%9D%84%20%EB%B0%94%EA%BE%...   \n",
       "4    https://www.bing.com/search?q=%ED%98%84%EB%8C%...   \n",
       "..                                                 ...   \n",
       "985                    캡슐세탁세제 일비아 실내건조세탁세제 버블코튼향이 가득해요   \n",
       "986          중도 퇴사자가 5월에 개인이 연말정산 하는방법 ②_2019년 종합소득세신고   \n",
       "987                                    새벳돈도 시대의 흐름에 따라   \n",
       "988  애플 생태계에 대한 사용기 - 맥, 아이패드, 아이폰, 애플워치는 유저 용이 아니라...   \n",
       "989              vpavqxcuungufltjslnautqzxjugjhnowghmr   \n",
       "\n",
       "                                              contents  nickName  \\\n",
       "0    https://www.msn.com/ko-kr/news/other/10%EB%<st...  갓슈벨아이엠스타   \n",
       "1    https://news.zum.com/articles/84616972#:~:text...        사공   \n",
       "2    https://wordwall.net/ko/resource/5364371/2-<st...         랑   \n",
       "3    보면서 생각을 하지않고 다만 본다. 돈을 벌어야 하는 이유를 하나 봤다. 아니 이들...      행복선택   \n",
       "4    <strong class=\"search_keyword\">B0%</strong><st...  갓슈벨아이엠스타   \n",
       "..                                                 ...       ...   \n",
       "985  없고 고급진 향으로 세탁자체만으로도 기분좋아지게 하니 이보다 더 만족스러울수가 없네...     코발트블루   \n",
       "986  원문출처 https://nwairr.tistory.com/entry/<strong ...    nwairr   \n",
       "987  all&amp;query=<strong class=\"search_keyword\">%...       357   \n",
       "988  82%AC<strong class=\"search_keyword\">%EC%</stro...       정작가   \n",
       "989  e<strong class=\"search_keyword\">2%</strong>a5%...        별이   \n",
       "\n",
       "                  blogName                                      profileImgUrl  \\\n",
       "0       갓슈벨아이카츠레지던트이블연재만화1  https://blogpfthumb-phinf.pstatic.net/MjAyMDA1...   \n",
       "1                     동학세상  https://blogpfthumb-phinf.pstatic.net/data35/2...   \n",
       "2                        -                                               None   \n",
       "3                    선택,행복                                               None   \n",
       "4       갓슈벨아이카츠레지던트이블연재만화1  https://blogpfthumb-phinf.pstatic.net/MjAyMDA1...   \n",
       "..                     ...                                                ...   \n",
       "985         코발트블루의 소소한이야기들  https://blogpfthumb-phinf.pstatic.net/20110327...   \n",
       "986  도전하지 않는다면 실패조차 할 수 없다  https://blogpfthumb-phinf.pstatic.net/data33/2...   \n",
       "987           j08m278님의블로그  https://blogpfthumb-phinf.pstatic.net/MjAxOTAz...   \n",
       "988             정작가의 이야기공방  https://blogpfthumb-phinf.pstatic.net/MjAxNzA3...   \n",
       "989                 으랏차차~~                                               None   \n",
       "\n",
       "           addDate                                         thumbnails product  \\\n",
       "0    1698677340000                                                 []    None   \n",
       "1    1690251540000                                                 []    None   \n",
       "2    1701904800000                                                 []    None   \n",
       "3    1705729500000                                                 []    None   \n",
       "4    1700016480000  [{'url': 'https://blogthumb.pstatic.net/MjAyMz...    None   \n",
       "..             ...                                                ...     ...   \n",
       "985  1694842260000  [{'url': 'https://blogthumb.pstatic.net/MjAyMz...    None   \n",
       "986  1556866800000  [{'url': 'https://blogthumb.pstatic.net/MjAxOT...    None   \n",
       "987  1707776220000  [{'url': 'https://blogthumb.pstatic.net/MjAyND...    None   \n",
       "988  1702092120000  [{'url': 'https://blogthumb.pstatic.net/MjAyMz...    None   \n",
       "989  1708659480000                                                 []    None   \n",
       "\n",
       "     hasThumbnail  marketPost            datetime  \n",
       "0           False       False 2023-10-30 23:49:00  \n",
       "1           False       False 2023-07-25 11:19:00  \n",
       "2           False       False 2023-12-07 08:20:00  \n",
       "3           False       False 2024-01-20 14:45:00  \n",
       "4            True       False 2023-11-15 11:48:00  \n",
       "..            ...         ...                 ...  \n",
       "985          True       False 2023-09-16 14:31:00  \n",
       "986          True       False 2019-05-03 16:00:00  \n",
       "987          True       False 2024-02-13 07:17:00  \n",
       "988          True       False 2023-12-09 12:22:00  \n",
       "989         False       False 2024-02-23 12:38:00  \n",
       "\n",
       "[990 rows x 16 columns]"
      ]
     },
     "execution_count": 95,
     "metadata": {},
     "output_type": "execute_result"
    }
   ],
   "source": [
    "result_df"
   ]
  },
  {
   "cell_type": "code",
   "execution_count": 94,
   "metadata": {},
   "outputs": [],
   "source": [
    "result_df[\"datetime\"] = result_df[\"addDate\"].apply(lambda x : datetime.fromtimestamp(x/1000))"
   ]
  },
  {
   "cell_type": "code",
   "execution_count": 112,
   "metadata": {},
   "outputs": [],
   "source": [
    "\n",
    "keyword = \"식기세척기\"\n",
    "enc_keyword = urllib.parse.quote(keyword)\n",
    "base_url = \"https://section.blog.naver.com/ajax/SearchList.naver\"\n",
    "params = {\"countPerPage\" : 7,\n",
    "          \"currentPage\" : 1,\n",
    "          \"keyword\" : keyword,\n",
    "          \"orderBy\" : \"sim\", \n",
    "          \"type\" : \"post\"}\n",
    "\n",
    "headers = {\"user-agent\" : \"Mozilla/5.0 (Macintosh; Intel Mac OS X 10_15_7) AppleWebKit/537.36 (KHTML, like Gecko) Chrome/108.0.0.0 Safari/537.36\",\n",
    "           \"Referer\" : f\"https://section.blog.naver.com/Search/Post.naver?pageNo=1&rangeType=ALL&orderBy=sim&keyword={enc_keyword}\",\n",
    "           \"host\" : \"section.blog.naver.com\"\n",
    "           }"
   ]
  },
  {
   "cell_type": "code",
   "execution_count": 113,
   "metadata": {},
   "outputs": [],
   "source": [
    "rq = requests.get(base_url, params = params, headers = headers, verify = False)"
   ]
  },
  {
   "cell_type": "code",
   "execution_count": 114,
   "metadata": {},
   "outputs": [],
   "source": [
    "json_rq = json.loads(re.search(\"\\{\\\"result\\\":.*\", rq.text)[0])\n",
    "temp = pd.DataFrame(json_rq.get(\"result\").get(\"searchList\"))"
   ]
  },
  {
   "cell_type": "code",
   "execution_count": 115,
   "metadata": {},
   "outputs": [
    {
     "name": "stdout",
     "output_type": "stream",
     "text": [
      "사진여행 청단골이야기\n"
     ]
    }
   ],
   "source": [
    "print(temp[\"blogName\"][0])"
   ]
  },
  {
   "cell_type": "code",
   "execution_count": null,
   "metadata": {},
   "outputs": [],
   "source": [
    "\"https://section.blog.naver.com/ajax/SearchList.naver?countPerPage=7&currentPage=1&endDate=&keyword=%EC%8B%9D%EA%B8%B0%EC%84%B8%EC%B2%99%EA%B8%B0&orderBy=sim&startDate=&type=post\""
   ]
  },
  {
   "cell_type": "code",
   "execution_count": 2,
   "metadata": {},
   "outputs": [],
   "source": [
    "keyword = [\"키치\", \"kitsch\", \"모노\", \"컬러풀\", \"유니크\", \"미드센츄리\", \"클래식\", \"빈티지\", \"레트로\", \"모던\", \"심플\", \"럭셔리\", \"프리미엄\", \"프로페셔널\", \"고사양\", \"전문가\", \"미니\", \"소형\", \"네츄럴\", '우드', \"화이트\"]\n",
    "eow = [\"전자 제품\", \"가전 제품\"]\n",
    "\n",
    "search_keywords = []\n",
    "for k in keyword:\n",
    "    for e in eow:\n",
    "        search_keywords.append(k + \" \" + e)\n"
   ]
  },
  {
   "cell_type": "code",
   "execution_count": 7,
   "metadata": {},
   "outputs": [],
   "source": [
    "num_cores = 10\n",
    "# search_keywords_split = np.array_split(search_keywords, num_cores)"
   ]
  },
  {
   "cell_type": "code",
   "execution_count": null,
   "metadata": {},
   "outputs": [],
   "source": [
    "keyword = [\"키치\", \"kitsch\", \"모노\", \"컬러풀\", \"유니크\", \"미드센츄리\", \"클래식\", \"빈티지\", \"레트로\", \"모던\", \"심플\", \"럭셔리\", \"프리미엄\", \"프로페셔널\", \"고사양\", \"전문가\", \"미니\", \"소형\", \"네츄럴\", '우드', \"화이트\"]\n"
   ]
  },
  {
   "cell_type": "code",
   "execution_count": 8,
   "metadata": {},
   "outputs": [],
   "source": [
    "def collect_blog(keywords):\n",
    "    naver_blog_crawl = NaverBlogCrawl()\n",
    "    return naver_blog_crawl.collect_blog(keywords, keywords_start_idx = 0, maximum = 100)"
   ]
  },
  {
   "cell_type": "code",
   "execution_count": 6,
   "metadata": {},
   "outputs": [
    {
     "ename": "NameError",
     "evalue": "name 'num_cores' is not defined",
     "output_type": "error",
     "traceback": [
      "\u001b[0;31m---------------------------------------------------------------------------\u001b[0m",
      "\u001b[0;31mNameError\u001b[0m                                 Traceback (most recent call last)",
      "\u001b[1;32m/home/seho/Naver_Blog_Crawl/Blog_Crawl_Main.ipynb 셀 5\u001b[0m in \u001b[0;36m<cell line: 1>\u001b[0;34m()\u001b[0m\n\u001b[0;32m----> <a href='vscode-notebook-cell://wsl%2Bubuntu-22.04/home/seho/Naver_Blog_Crawl/Blog_Crawl_Main.ipynb#W4sdnNjb2RlLXJlbW90ZQ%3D%3D?line=0'>1</a>\u001b[0m \u001b[39mwith\u001b[39;00m Pool(num_cores) \u001b[39mas\u001b[39;00m p:\n\u001b[1;32m      <a href='vscode-notebook-cell://wsl%2Bubuntu-22.04/home/seho/Naver_Blog_Crawl/Blog_Crawl_Main.ipynb#W4sdnNjb2RlLXJlbW90ZQ%3D%3D?line=1'>2</a>\u001b[0m     results_async\u001b[39m=\u001b[39mp\u001b[39m.\u001b[39mmap_async(collect_blog, search_keywords_split)\n\u001b[1;32m      <a href='vscode-notebook-cell://wsl%2Bubuntu-22.04/home/seho/Naver_Blog_Crawl/Blog_Crawl_Main.ipynb#W4sdnNjb2RlLXJlbW90ZQ%3D%3D?line=2'>3</a>\u001b[0m     results_async\u001b[39m.\u001b[39mget()\n",
      "\u001b[0;31mNameError\u001b[0m: name 'num_cores' is not defined"
     ]
    }
   ],
   "source": [
    "with Pool(num_cores) as p:\n",
    "    results_async=p.map_async(collect_blog, search_keywords_split)\n",
    "    results_async.get()"
   ]
  },
  {
   "cell_type": "code",
   "execution_count": 38,
   "metadata": {},
   "outputs": [
    {
     "data": {
      "text/plain": [
       "{'rss': {'@version': '2.0',\n",
       "  'channel': {'title': \"Naver Open API - blog ::'식기세척기'\",\n",
       "   'link': 'https://search.naver.com',\n",
       "   'description': 'Naver Search Result',\n",
       "   'lastBuildDate': 'Mon, 26 Feb 2024 15:28:53 +0900',\n",
       "   'total': '716698',\n",
       "   'start': '1',\n",
       "   'display': '2',\n",
       "   'item': [{'title': '<b>식기세척기</b> 세제 믿을 수 있기에',\n",
       "     'link': 'https://blog.naver.com/did4236/223359830478',\n",
       "     'description': '그래서 과일 채소용 세척제로 사용이 가능하고 식품 첨가물 성분으로 젖병이랑 숟가락, 그릇 등 모든 식기까지 세척할 수 있는데요. 이렇게 성분도 착하고 믿을 만한 세제라서 그런지 <b>식기세척기</b>를 돌렸을 때 물...',\n",
       "     'bloggername': '사진여행 청단골이야기',\n",
       "     'bloggerlink': 'blog.naver.com/did4236',\n",
       "     'postdate': '20240220'},\n",
       "    {'title': '초음파<b>식기세척기</b> 사용 후 편해졌어요',\n",
       "     'link': 'https://blog.naver.com/pink_rady_/223365378138',\n",
       "     'description': '식기뿐만 아니지만다 여러 식재료도 초음파<b>식기세척기</b>를 토대로 씻을 수 있기 때문에 특히 맘에... 초음파<b>식기세척기</b>를 사용 할 수 보였어요. 사용이 끝이 난 주방집기와 사용 한 그릇등을 세척기에 넣은 뒤 자동...',\n",
       "     'bloggername': '핑크힐병원',\n",
       "     'bloggerlink': 'blog.naver.com/pink_rady_',\n",
       "     'postdate': '20240226'}]}}}"
      ]
     },
     "execution_count": 38,
     "metadata": {},
     "output_type": "execute_result"
    }
   ],
   "source": [
    "naver_blog_crawl.request_blog_api(keyword = \"식기세척기\", display=2, start=1)"
   ]
  },
  {
   "cell_type": "code",
   "execution_count": 39,
   "metadata": {},
   "outputs": [
    {
     "data": {
      "text/plain": [
       "{'rss': {'@version': '2.0',\n",
       "  'channel': {'title': \"Naver Open API - blog ::'식기세척기'\",\n",
       "   'link': 'https://search.naver.com',\n",
       "   'description': 'Naver Search Result',\n",
       "   'lastBuildDate': 'Mon, 26 Feb 2024 15:29:08 +0900',\n",
       "   'total': '716698',\n",
       "   'start': '2',\n",
       "   'display': '2',\n",
       "   'item': [{'title': '초음파<b>식기세척기</b> 사용 후 편해졌어요',\n",
       "     'link': 'https://blog.naver.com/pink_rady_/223365378138',\n",
       "     'description': '식기뿐만 아니지만다 여러 식재료도 초음파<b>식기세척기</b>를 토대로 씻을 수 있기 때문에 특히 맘에... 초음파<b>식기세척기</b>를 사용 할 수 보였어요. 사용이 끝이 난 주방집기와 사용 한 그릇등을 세척기에 넣은 뒤 자동...',\n",
       "     'bloggername': '핑크힐병원',\n",
       "     'bloggerlink': 'blog.naver.com/pink_rady_',\n",
       "     'postdate': '20240226'},\n",
       "    {'title': '업소용 초음파 <b>식기세척기</b> 설거지 고민 해결',\n",
       "     'link': 'https://blog.naver.com/bitsogum001/223354877343',\n",
       "     'description': '최근에 업소용 초음파 <b>식기세척기</b> 무이자 할부로 구매했는데 그동안의 걱정 거리가 싹 사라졌어요.... 인건비 문제로 고민을 이어나가다가 우연히 주변 사장님과 대화를 하게 됐는데 업소용 초음파 <b>식기세척기</b>...',\n",
       "     'bloggername': '계룡산 빛소금 체험관',\n",
       "     'bloggerlink': 'blog.naver.com/bitsogum001',\n",
       "     'postdate': '20240215'}]}}}"
      ]
     },
     "execution_count": 39,
     "metadata": {},
     "output_type": "execute_result"
    }
   ],
   "source": [
    "naver_blog_crawl.request_blog_api(keyword = \"식기세척기\", display=2, start=2)"
   ]
  },
  {
   "cell_type": "code",
   "execution_count": null,
   "metadata": {},
   "outputs": [],
   "source": [
    "naver_blog_crawl = NaverBlogCrawl()\n",
    "result = naver_blog_crawl.collect_blog([\"식기세척기\"], \n",
    "                                        keywords_start_idx = 0, num_blogs=1, maximum = 1)\n",
    "# pd.DataFrame(result).to_excel(\"temp.xlsx\")"
   ]
  },
  {
   "cell_type": "code",
   "execution_count": 36,
   "metadata": {},
   "outputs": [
    {
     "ename": "KeyboardInterrupt",
     "evalue": "",
     "output_type": "error",
     "traceback": [
      "\u001b[0;31m---------------------------------------------------------------------------\u001b[0m",
      "\u001b[0;31mKeyboardInterrupt\u001b[0m                         Traceback (most recent call last)",
      "\u001b[1;32m/home/seho/Naver_Blog_Crawl/Blog_Crawl_Main.ipynb 셀 9\u001b[0m in \u001b[0;36m<cell line: 2>\u001b[0;34m()\u001b[0m\n\u001b[1;32m      <a href='vscode-notebook-cell://wsl%2Bubuntu-22.04/home/seho/Naver_Blog_Crawl/Blog_Crawl_Main.ipynb#X10sdnNjb2RlLXJlbW90ZQ%3D%3D?line=0'>1</a>\u001b[0m naver_blog_crawl \u001b[39m=\u001b[39m NaverBlogCrawl()\n\u001b[0;32m----> <a href='vscode-notebook-cell://wsl%2Bubuntu-22.04/home/seho/Naver_Blog_Crawl/Blog_Crawl_Main.ipynb#X10sdnNjb2RlLXJlbW90ZQ%3D%3D?line=1'>2</a>\u001b[0m result \u001b[39m=\u001b[39m naver_blog_crawl\u001b[39m.\u001b[39;49mcollect_blog([\u001b[39m\"\u001b[39;49m\u001b[39m식기세척기\u001b[39;49m\u001b[39m\"\u001b[39;49m], \n\u001b[1;32m      <a href='vscode-notebook-cell://wsl%2Bubuntu-22.04/home/seho/Naver_Blog_Crawl/Blog_Crawl_Main.ipynb#X10sdnNjb2RlLXJlbW90ZQ%3D%3D?line=2'>3</a>\u001b[0m                                         keywords_start_idx \u001b[39m=\u001b[39;49m \u001b[39m0\u001b[39;49m, num_blogs\u001b[39m=\u001b[39;49m\u001b[39m100\u001b[39;49m, maximum \u001b[39m=\u001b[39;49m \u001b[39m100000\u001b[39;49m)\n",
      "File \u001b[0;32m~/Naver_Blog_Crawl/Naver_Blog_Crawl.py:493\u001b[0m, in \u001b[0;36mNaverBlogCrawl.collect_blog\u001b[0;34m(self, keywords, keywords_start_idx, num_blogs, maximum, executor, image)\u001b[0m\n\u001b[1;32m    491\u001b[0m \u001b[39mfor\u001b[39;00m i, keyword \u001b[39min\u001b[39;00m \u001b[39menumerate\u001b[39m(\u001b[39mself\u001b[39m\u001b[39m.\u001b[39mkeywords):\n\u001b[1;32m    492\u001b[0m     \u001b[39mif\u001b[39;00m i \u001b[39m==\u001b[39m \u001b[39m0\u001b[39m:\n\u001b[0;32m--> 493\u001b[0m         time\u001b[39m.\u001b[39;49msleep(random\u001b[39m.\u001b[39;49mrandint(\u001b[39m0\u001b[39;49m, \u001b[39m10\u001b[39;49m))\n\u001b[1;32m    494\u001b[0m     \u001b[39mif\u001b[39;00m i \u001b[39m<\u001b[39m keywords_start_idx:\n\u001b[1;32m    495\u001b[0m         \u001b[39mcontinue\u001b[39;00m\n",
      "\u001b[0;31mKeyboardInterrupt\u001b[0m: "
     ]
    }
   ],
   "source": [
    "naver_blog_crawl = NaverBlogCrawl()\n",
    "result = naver_blog_crawl.collect_blog([\"식기세척기\"], \n",
    "                                        keywords_start_idx = 0, num_blogs=100, maximum = 100000)\n",
    "# pd.DataFrame(result).to_excel(\"temp.xlsx\")"
   ]
  },
  {
   "cell_type": "code",
   "execution_count": 13,
   "metadata": {},
   "outputs": [],
   "source": [
    "pd.DataFrame(result).to_parquet(\"dw_naver_blog_240226.parquet\", index = False)"
   ]
  },
  {
   "cell_type": "markdown",
   "metadata": {},
   "source": [
    "https://www.revu.net/campaign/img.php?p=951a0b94258ddbcd84b2218fb9ac56644bbdf63758ac2e2474d30cfbca8a87b9&v=4\n",
    "https://www.revu.net/campaign/img.php?p=40b16e63d439bffdef8dc4fa06625fc1b13346f4d60c5bc6a14c3429454c0258&v=4"
   ]
  },
  {
   "cell_type": "code",
   "execution_count": null,
   "metadata": {},
   "outputs": [],
   "source": [
    "naver_blog_crawl = NaverBlogCrawl()\n",
    "result = naver_blog_crawl.collect_blog(search_keywords[:4], keywords_start_idx = 0, num_blogs= 1)\n",
    "pd.DataFrame(result).to_excel(\"temp.xlsx\")"
   ]
  },
  {
   "cell_type": "code",
   "execution_count": 2,
   "metadata": {},
   "outputs": [
    {
     "name": "stdout",
     "output_type": "stream",
     "text": [
      "0, keyword : LG 공기청정기, # of blogs : 196\n"
     ]
    }
   ],
   "source": [
    "naver_blog_crawl = NaverBlogCrawl() # 23.8\n",
    "result = naver_blog_crawl.collect_blog(\"LG 공기청정기\")"
   ]
  },
  {
   "cell_type": "code",
   "execution_count": 4,
   "metadata": {},
   "outputs": [],
   "source": [
    "import pickle\n",
    "with open(\"blog_dict/LG 공기청정기_blog_dict.pkl\", \"rb\") as f:\n",
    "    lg_ap_blog = pickle.load(f)"
   ]
  },
  {
   "cell_type": "code",
   "execution_count": 8,
   "metadata": {},
   "outputs": [],
   "source": [
    "pd.DataFrame(lg_ap_blog).to_excel(\"lg_ap_blog.xlsx\", index= False)"
   ]
  },
  {
   "cell_type": "code",
   "execution_count": 27,
   "metadata": {},
   "outputs": [],
   "source": [
    "def merge_dict(org_dict:dict, new_dict:dict, type:str = \"full\"):\n",
    "    if type == \"full\":\n",
    "        keys = pd.unique(list(org_dict.keys()) + list(new_dict.keys()))\n",
    "    elif type == \"left\":\n",
    "        keys = list(org_dict.keys())\n",
    "    elif type == \"right\":\n",
    "        keys = list(new_dict.keys())\n",
    "\n",
    "\n",
    "    for key in keys:\n",
    "        if isinstance(new_dict[key], list):\n",
    "            org_dict[key].extend(new_dict[key])\n",
    "        else:\n",
    "            org_dict[key].append(new_dict[key])\n",
    "    \n",
    "    return org_dict"
   ]
  },
  {
   "cell_type": "code",
   "execution_count": 28,
   "metadata": {},
   "outputs": [],
   "source": [
    "result_dict = defaultdict(list)\n",
    "blog_dicts = os.listdir(\"./blog_dict\")\n",
    "for x in blog_dicts:\n",
    "    with open(f\"./blog_dict/{x}\", \"rb\") as f:\n",
    "        blog_dict = pickle.load(f)\n",
    "        result_dict = merge_dict(result_dict, blog_dict)"
   ]
  },
  {
   "cell_type": "code",
   "execution_count": 29,
   "metadata": {},
   "outputs": [],
   "source": [
    "result_df = pd.DataFrame(result_dict)"
   ]
  },
  {
   "cell_type": "code",
   "execution_count": null,
   "metadata": {},
   "outputs": [],
   "source": [
    "result_df.to_excel(\"메디큐브블로그.xlsx\")"
   ]
  },
  {
   "cell_type": "code",
   "execution_count": null,
   "metadata": {},
   "outputs": [],
   "source": [
    "result_df[\"keyword\"].drop_duplicates()"
   ]
  },
  {
   "cell_type": "code",
   "execution_count": 12,
   "metadata": {},
   "outputs": [],
   "source": [
    "duplicated_blogs = result_df[[\"writer_name\", \"post_date\"]].value_counts()\n",
    "duplicated_blogs = duplicated_blogs.loc[duplicated_blogs>1].reset_index()"
   ]
  },
  {
   "cell_type": "code",
   "execution_count": 13,
   "metadata": {},
   "outputs": [],
   "source": [
    "result_df = result_df.loc[result_df[\"writer_name\"].isin(duplicated_blogs[\"writer_name\"])==False]"
   ]
  },
  {
   "cell_type": "code",
   "execution_count": 9,
   "metadata": {},
   "outputs": [],
   "source": [
    "def save_images(img_urls:str, img_names:str, img_dir:str = \"./image\"):\n",
    "    \n",
    "    if not os.path.exists(img_dir):\n",
    "        os.makedirs(img_dir)\n",
    "\n",
    "\n",
    "    for img_url, img_name in zip(img_urls, img_names):\n",
    "        # image 저장        \n",
    "        try:\n",
    "            img_rq = requests.get(img_url, verify = False)\n",
    "            with open(f\"{img_dir}/{img_name.replace('/','_')}\", \"wb\") as f:\n",
    "                f.write(img_rq.content)\n",
    "        except: \n",
    "            print(f\"img_name : {img_name}, img_url : {img_url}\")"
   ]
  },
  {
   "cell_type": "code",
   "execution_count": 241,
   "metadata": {},
   "outputs": [],
   "source": [
    "from multiprocessing_on_dill import Pool, cpu_count\n",
    "from functools import partial\n",
    "# from tqdm import tqdm\n",
    "import pandas as pd\n",
    "import numpy as np\n",
    "\n",
    "\n",
    "def parallelize_dataframe(df, \n",
    "                          func, \n",
    "                          group_keys = None, \n",
    "                          num_cores = None,\n",
    "                          **params):\n",
    "    \"\"\"\n",
    "        Pandas DataFrame의 apply함수를 병렬처리 하는 함수\n",
    "        Args: \n",
    "            df: 적용 대상 데이터프레임 (Pandas.DataFrame)\n",
    "            group_keys: apply를 적용할 때 기준이되는 group by key\n",
    "        Returns:\n",
    "            df: (Pandas.DataFrame)\n",
    "            \n",
    "        Exception: \n",
    "    \"\"\"\n",
    "\n",
    "    if num_cores is None:\n",
    "        num_cores = cpu_count()\n",
    "\n",
    "    if group_keys is None:\n",
    "        df_list = np.array_split(df, num_cores)\n",
    "    elif group_keys is not None:\n",
    "        gr_df = df.groupby(group_keys)\n",
    "        df_list = [group for name, group in gr_df]\n",
    "    \n",
    "#     tqdm.pandas()\n",
    "    #func = partial(func, **params)\n",
    "    \n",
    "    # def map_func(data):\n",
    "    #     return data.apply(func, axis = 1, **params)\n",
    "#         return data.progress_apply(func, axis = 1, **params)\n",
    "        \n",
    "        \n",
    "    with Pool(num_cores) as p:\n",
    "        p.map(func, df_list)\n",
    "#         pd_result = p.starmap(func, **params)"
   ]
  },
  {
   "cell_type": "code",
   "execution_count": 242,
   "metadata": {},
   "outputs": [],
   "source": [
    "def save_images_par(temp_df):\n",
    "    for row in temp_df[[\"keyword\", \"images\", \"image_urls\"]].iterrows():\n",
    "        save_images(img_urls = row[1][2], img_names = row[1][1], img_dir = f\"/mnt/d/Crawl/Naver_Blog_Crawl/sample_image/{row[1][0].replace('/','_')}\")"
   ]
  },
  {
   "cell_type": "code",
   "execution_count": null,
   "metadata": {},
   "outputs": [],
   "source": [
    "parallelize_dataframe(df = result_df, func = save_images_par, group_keys = \"keyword\", num_cores = 40)"
   ]
  },
  {
   "cell_type": "code",
   "execution_count": 14,
   "metadata": {},
   "outputs": [
    {
     "name": "stderr",
     "output_type": "stream",
     "text": [
      "/tmp/ipykernel_13533/4030479231.py:1: UserWarning: This pattern is interpreted as a regular expression, and has match groups. To actually get the groups, use str.extract.\n",
      "  result_df = result_df.loc[result_df[\"writer_name\"].str.contains(\"\"\"(업체)|(시공)|(구매대행)|(시스템)|(전문)|(판매)|\n",
      "/tmp/ipykernel_13533/4030479231.py:5: UserWarning: This pattern is interpreted as a regular expression, and has match groups. To actually get the groups, use str.extract.\n",
      "  result_df = result_df.loc[result_df[\"title\"].str.contains(\"\"\"(업체)|(시공)|(구매대행)|(시스템)|(전문)|(판매)|(센터)|\n",
      "/tmp/ipykernel_13533/4030479231.py:9: UserWarning: This pattern is interpreted as a regular expression, and has match groups. To actually get the groups, use str.extract.\n",
      "  result_df = result_df.loc[result_df[\"tags\"].str.contains(\"\"\"(업체)|(시공)|(구매대행)|(시스템)|(전문)|(판매)|(센터)|(중고)|(청소)|\n"
     ]
    }
   ],
   "source": [
    "result_df = result_df.loc[result_df[\"writer_name\"].str.contains(\"\"\"(업체)|(시공)|(구매대행)|(시스템)|(전문)|(판매)|\n",
    "                                                                   (센터)|(중고)|(청소)|(가전)|(렌탈)|(베스트샵)|(삼성)|\n",
    "                                                                   (리폼)|(교체)|(홈쇼핑)|(닷컴)|(공식)|(\\(주\\))|(특가)|(이벤트)|(할인)|\n",
    "                                                                   (신문)|(선택장애 살아가기)|(삼시육끼)\"\"\")==False]\n",
    "result_df = result_df.loc[result_df[\"title\"].str.contains(\"\"\"(업체)|(시공)|(구매대행)|(시스템)|(전문)|(판매)|(센터)|\n",
    "                                                             (중고)|(청소)|(가전)|(렌탈)|(베스트샵)|(삼성)|(리폼)|(교체)|\n",
    "                                                             (체험단)|(홈쇼핑)|(닷컴)|(기부)|(방송)|(특가)|(이벤트)|(할인)|\n",
    "                                                             (리스트)|(요약)|(리포트)\"\"\")==False]\n",
    "result_df = result_df.loc[result_df[\"tags\"].str.contains(\"\"\"(업체)|(시공)|(구매대행)|(시스템)|(전문)|(판매)|(센터)|(중고)|(청소)|\n",
    "                                                            (가전)|(렌탈)|(베스트샵)|(삼성)|(리폼)|(교체)|(체험단)|(홈쇼핑)|(닷컴)|\n",
    "                                                            (특가)|(이벤트)|(할인)\"\"\")==False]"
   ]
  },
  {
   "cell_type": "code",
   "execution_count": 15,
   "metadata": {},
   "outputs": [],
   "source": [
    "result_df = result_df.loc[result_df[\"post_date\"]>=\"2020000\"]"
   ]
  },
  {
   "cell_type": "code",
   "execution_count": 16,
   "metadata": {},
   "outputs": [
    {
     "name": "stderr",
     "output_type": "stream",
     "text": [
      "/tmp/ipykernel_13533/2667990024.py:1: UserWarning: This pattern is interpreted as a regular expression, and has match groups. To actually get the groups, use str.extract.\n",
      "  result_df = result_df.loc[result_df[\"contents\"].str.contains(\"\"\"(랭킹)|(상세 페이지)|(체험단)|(입금)|(익일)|(검색)|(프로모션)|\n"
     ]
    }
   ],
   "source": [
    "result_df = result_df.loc[result_df[\"contents\"].str.contains(\"\"\"(랭킹)|(상세 페이지)|(체험단)|(입금)|(익일)|(검색)|(프로모션)|\n",
    "                                                                (소식)|(포토툰)|(설치)|(닷컴)|(주소)|(전화)|(영업시간)|(스토어)|\n",
    "                                                                ([\\d]+원)|(010-)|(주식)|(카카오톡)|(채널)|(주가)|(주주)|(차트)|(전시)|\n",
    "                                                                (가정의)|([\\d]{3,4}-[\\d]{3,4}-[\\d]{4})|(이벤트)|(바로가기)|(도서)|(리스트)|\n",
    "                                                                (요약)|(리포트)|(클릭)|(할\\.인)|(구\\.매)|(전문점)|(교환)|(소정)|(기자)|(출처)|\n",
    "                                                                (소공미디어)|(정시)|(접수)|(참여)|(관련주)|(매수)\"\"\")==False]"
   ]
  },
  {
   "cell_type": "code",
   "execution_count": 226,
   "metadata": {},
   "outputs": [],
   "source": [
    "result_df = result_df.loc[(result_df[\"image_urls\"].apply(lambda x: len(x)) != 0)]"
   ]
  },
  {
   "cell_type": "code",
   "execution_count": 227,
   "metadata": {},
   "outputs": [],
   "source": [
    "result_df = result_df.loc[result_df[\"image_urls\"].apply(lambda x: len(x)) < 30]"
   ]
  },
  {
   "cell_type": "code",
   "execution_count": 21,
   "metadata": {},
   "outputs": [
    {
     "name": "stderr",
     "output_type": "stream",
     "text": [
      "/home/seho/.local/lib/python3.10/site-packages/pandas/util/_decorators.py:211: FutureWarning: the 'encoding' keyword is deprecated and will be removed in a future version. Please take steps to stop the use of 'encoding'\n",
      "  return func(*args, **kwargs)\n"
     ]
    }
   ],
   "source": [
    "result_df.to_excel(\"blog_data_230111.xlsx\", index = False, encoding = \"CP949\")"
   ]
  },
  {
   "cell_type": "code",
   "execution_count": 91,
   "metadata": {},
   "outputs": [],
   "source": [
    "blogId = re.search(r\"blogId=([a-zA-Z0-9_-]+)\", blog_url).group(1)\n",
    "logNoList = re.search(r\"logNo=([\\d]+)\", blog_url).group(1)"
   ]
  },
  {
   "cell_type": "code",
   "execution_count": 89,
   "metadata": {},
   "outputs": [],
   "source": [
    "from multiprocessing_on_dill import Pool, cpu_count\n",
    "from functools import partial\n",
    "# from tqdm import tqdm\n",
    "import pandas as pd\n",
    "import numpy as np\n",
    "\n",
    "\n",
    "def parallelize_dataframe(df, \n",
    "                          func, \n",
    "                          group_keys = None, \n",
    "                          num_cores = None,\n",
    "                          **params):\n",
    "    \"\"\"\n",
    "        Pandas DataFrame의 apply함수를 병렬처리 하는 함수\n",
    "        Args: \n",
    "            df: 적용 대상 데이터프레임 (Pandas.DataFrame)\n",
    "            group_keys: apply를 적용할 때 기준이되는 group by key\n",
    "        Returns:\n",
    "            df: (Pandas.DataFrame)\n",
    "            \n",
    "        Exception: \n",
    "    \"\"\"\n",
    "\n",
    "    if num_cores is None:\n",
    "        num_cores = cpu_count()\n",
    "\n",
    "    if group_keys is None:\n",
    "        df_list = np.array_split(df, num_cores)\n",
    "    elif group_keys is not None:\n",
    "        gr_df = df.groupby(group_keys)\n",
    "        df_list = [group for name, group in gr_df]\n",
    "    \n",
    "#     tqdm.pandas()\n",
    "    #func = partial(func, **params)\n",
    "    \n",
    "    # def map_func(data):\n",
    "    #     return data.apply(func, axis = 1, **params)\n",
    "#         return data.progress_apply(func, axis = 1, **params)\n",
    "        \n",
    "        \n",
    "    with Pool(num_cores) as p:\n",
    "        pd_result = pd.concat(p.map(func, df_list))\n",
    "#         pd_result = p.starmap(func, **params)\n",
    "        \n",
    "    return pd_result"
   ]
  },
  {
   "cell_type": "code",
   "execution_count": 90,
   "metadata": {},
   "outputs": [],
   "source": [
    "def get_blog_like_count(blog_url):\n",
    "    blogId = re.search(r\"blogId=([a-zA-Z0-9_-]+)\", blog_url).group(1)\n",
    "    logNoList = re.search(r\"logNo=([\\d]+)\", blog_url).group(1)\n",
    "\n",
    "    like_base_url = \"https://blog.like.naver.com/v1/search/contents\"\n",
    "    params_dict = {\"suppress_response_codes\" : \"true\",\n",
    "                   \"q\" : f\"BLOG[{blogId}_{logNoList}]\"}\n",
    "\n",
    "    blog_rq = requests.get(like_base_url, params_dict)\n",
    "    \n",
    "    if len(blog_rq.json()[\"contents\"][0][\"reactions\"]) == 0:\n",
    "        like_count = 0\n",
    "    else:\n",
    "        like_count = blog_rq.json()[\"contents\"][0][\"reactions\"][0][\"count\"]\n",
    "    return like_count\n"
   ]
  },
  {
   "cell_type": "code",
   "execution_count": 91,
   "metadata": {},
   "outputs": [],
   "source": [
    "def get_like_par(url_list):\n",
    "    like_list = []\n",
    "    blog_url_list = []\n",
    "    for i, blog_url in enumerate(url_list):\n",
    "        blog_url_list.append(blog_url)\n",
    "        like_list.append(get_blog_like_count(blog_url))\n",
    "\n",
    "    return pd.DataFrame({\"blog_url\" : blog_url_list, \"like\" : like_list})"
   ]
  },
  {
   "cell_type": "code",
   "execution_count": 21,
   "metadata": {},
   "outputs": [],
   "source": [
    "like_df = parallelize_dataframe(df = result_df[\"blog_url\"], func = get_like_par, num_cores = 50)"
   ]
  },
  {
   "cell_type": "code",
   "execution_count": 191,
   "metadata": {},
   "outputs": [
    {
     "name": "stdout",
     "output_type": "stream",
     "text": [
      "(18431, 11)\n"
     ]
    }
   ],
   "source": [
    "result_df = pd.merge(result_df, like_df, on = \"blog_url\")\n",
    "print(result_df.shape)"
   ]
  },
  {
   "cell_type": "code",
   "execution_count": 192,
   "metadata": {},
   "outputs": [
    {
     "name": "stdout",
     "output_type": "stream",
     "text": [
      "(18431, 15)\n"
     ]
    }
   ],
   "source": [
    "result_df = pd.merge(result_df, product_data[[\"keyword\", \"category1Name\", \"category2Name\", \"category3Name\", \"category4Name\"]].drop_duplicates(\"keyword\"), on = \"keyword\")\n",
    "print(result_df.shape)"
   ]
  },
  {
   "cell_type": "code",
   "execution_count": 193,
   "metadata": {},
   "outputs": [],
   "source": [
    "result_df = result_df.loc[result_df[\"category2Name\"] != \"인테리어소품\"]"
   ]
  },
  {
   "cell_type": "code",
   "execution_count": 194,
   "metadata": {},
   "outputs": [],
   "source": [
    "category3_df = pd.read_csv(\"소카테고리.csv\", encoding = \"CP949\")"
   ]
  },
  {
   "cell_type": "code",
   "execution_count": 195,
   "metadata": {},
   "outputs": [],
   "source": [
    "result_df = pd.merge(result_df, category3_df, left_on = \"category3Name\", right_on = \"소카테고리\")"
   ]
  },
  {
   "cell_type": "code",
   "execution_count": 196,
   "metadata": {},
   "outputs": [],
   "source": [
    "virtual_user_df = pd.read_excel(\"~/Project_C/1차오픈용계정_0428.xlsx\")"
   ]
  },
  {
   "cell_type": "code",
   "execution_count": 197,
   "metadata": {},
   "outputs": [
    {
     "data": {
      "text/plain": [
       "array(['요리/주방', '음향/사운드', '영상가전', '생활가전', '뷰티가전', '계절가전', '건강가전', '의류관리기',\n",
       "       '위생가전'], dtype=object)"
      ]
     },
     "execution_count": 197,
     "metadata": {},
     "output_type": "execute_result"
    }
   ],
   "source": [
    "result_df[\"알파카테고리\"].unique()"
   ]
  },
  {
   "cell_type": "code",
   "execution_count": 198,
   "metadata": {},
   "outputs": [],
   "source": [
    "alpha_category = [\"음향/사운드\", \"계절가전\", \"영상가전\", \"요리/주방\", \"생활가전\", \"뷰티가전\", \"위생가전\", \"의류관리기\", \"건강가전\"]"
   ]
  },
  {
   "cell_type": "code",
   "execution_count": 199,
   "metadata": {},
   "outputs": [],
   "source": [
    "category_num = (virtual_user_df[alpha_category].isna() == False).sum().to_dict()"
   ]
  },
  {
   "cell_type": "code",
   "execution_count": 200,
   "metadata": {},
   "outputs": [
    {
     "data": {
      "text/plain": [
       "{'음향/사운드': 20,\n",
       " '계절가전': 40,\n",
       " '영상가전': 35,\n",
       " '요리/주방': 50,\n",
       " '생활가전': 60,\n",
       " '뷰티가전': 25,\n",
       " '위생가전': 15,\n",
       " '의류관리기': 10,\n",
       " '건강가전': 10}"
      ]
     },
     "execution_count": 200,
     "metadata": {},
     "output_type": "execute_result"
    }
   ],
   "source": [
    "category_num"
   ]
  },
  {
   "cell_type": "code",
   "execution_count": 234,
   "metadata": {},
   "outputs": [],
   "source": [
    "sample_result_df = result_df.groupby(\"알파카테고리\").apply(lambda x: x.sort_values(\"like\", ascending = False).head(category_num[x[\"알파카테고리\"].to_list()[0]]*5)).reset_index(drop=True)\n",
    "sample_result_df[\"id\"] = [f\"blog_{i+1}\" for i in range(sample_result_df.shape[0])]"
   ]
  },
  {
   "cell_type": "code",
   "execution_count": 235,
   "metadata": {},
   "outputs": [
    {
     "data": {
      "text/plain": [
       "(1325, 18)"
      ]
     },
     "execution_count": 235,
     "metadata": {},
     "output_type": "execute_result"
    }
   ],
   "source": [
    "sample_result_df.shape"
   ]
  },
  {
   "cell_type": "code",
   "execution_count": 236,
   "metadata": {},
   "outputs": [],
   "source": [
    "import random"
   ]
  },
  {
   "cell_type": "code",
   "execution_count": 244,
   "metadata": {},
   "outputs": [],
   "source": [
    "virtual_user_df[\"blog_list\"] = [[] for _ in range(virtual_user_df.shape[0])]"
   ]
  },
  {
   "cell_type": "code",
   "execution_count": 245,
   "metadata": {},
   "outputs": [],
   "source": [
    "for category in alpha_category:\n",
    "    category_user = virtual_user_df.loc[virtual_user_df[category] == \"O\"]\n",
    "    # num_user = category_user.shape[0]\n",
    "    user_ids = category_user[\"번호\"]\n",
    "    \n",
    "    sampled_list = []\n",
    "    for user_id in user_ids:\n",
    "        category_blog_id = sample_result_df.loc[(sample_result_df[\"알파카테고리\"] == category) & (sample_result_df[\"id\"].isin(sampled_list) == False), \"id\"].to_list()\n",
    "        temp_sampled_list = random.sample(category_blog_id, 5)\n",
    "        sampled_list.extend(temp_sampled_list)\n",
    "\n",
    "        temp = virtual_user_df.loc[virtual_user_df[\"번호\"] == user_id, \"blog_list\"]\n",
    "        temp[temp.index.item()].extend(temp_sampled_list)"
   ]
  },
  {
   "cell_type": "code",
   "execution_count": 246,
   "metadata": {},
   "outputs": [
    {
     "data": {
      "text/html": [
       "<div>\n",
       "<style scoped>\n",
       "    .dataframe tbody tr th:only-of-type {\n",
       "        vertical-align: middle;\n",
       "    }\n",
       "\n",
       "    .dataframe tbody tr th {\n",
       "        vertical-align: top;\n",
       "    }\n",
       "\n",
       "    .dataframe thead th {\n",
       "        text-align: right;\n",
       "    }\n",
       "</style>\n",
       "<table border=\"1\" class=\"dataframe\">\n",
       "  <thead>\n",
       "    <tr style=\"text-align: right;\">\n",
       "      <th></th>\n",
       "      <th>번호</th>\n",
       "      <th>이메일(@test.com)</th>\n",
       "      <th>닉네임</th>\n",
       "      <th>비밀번호</th>\n",
       "      <th>음향/사운드</th>\n",
       "      <th>계절가전</th>\n",
       "      <th>영상가전</th>\n",
       "      <th>요리/주방</th>\n",
       "      <th>생활가전</th>\n",
       "      <th>뷰티가전</th>\n",
       "      <th>위생가전</th>\n",
       "      <th>의류관리기</th>\n",
       "      <th>건강가전</th>\n",
       "      <th>blog_list</th>\n",
       "    </tr>\n",
       "  </thead>\n",
       "  <tbody>\n",
       "    <tr>\n",
       "      <th>0</th>\n",
       "      <td>1</td>\n",
       "      <td>code1@test.com</td>\n",
       "      <td>ellys.home</td>\n",
       "      <td>code1234!</td>\n",
       "      <td>O</td>\n",
       "      <td>NaN</td>\n",
       "      <td>NaN</td>\n",
       "      <td>NaN</td>\n",
       "      <td>NaN</td>\n",
       "      <td>NaN</td>\n",
       "      <td>NaN</td>\n",
       "      <td>NaN</td>\n",
       "      <td>NaN</td>\n",
       "      <td>[blog_1249, blog_1242, blog_1272, blog_1263, b...</td>\n",
       "    </tr>\n",
       "    <tr>\n",
       "      <th>1</th>\n",
       "      <td>2</td>\n",
       "      <td>code2@test.com</td>\n",
       "      <td>cosydaily</td>\n",
       "      <td>code1234!</td>\n",
       "      <td>O</td>\n",
       "      <td>NaN</td>\n",
       "      <td>NaN</td>\n",
       "      <td>NaN</td>\n",
       "      <td>NaN</td>\n",
       "      <td>NaN</td>\n",
       "      <td>NaN</td>\n",
       "      <td>NaN</td>\n",
       "      <td>NaN</td>\n",
       "      <td>[blog_1190, blog_1187, blog_1260, blog_1218, b...</td>\n",
       "    </tr>\n",
       "    <tr>\n",
       "      <th>2</th>\n",
       "      <td>3</td>\n",
       "      <td>code3@test.com</td>\n",
       "      <td>applely88</td>\n",
       "      <td>code1234!</td>\n",
       "      <td>O</td>\n",
       "      <td>NaN</td>\n",
       "      <td>NaN</td>\n",
       "      <td>NaN</td>\n",
       "      <td>NaN</td>\n",
       "      <td>NaN</td>\n",
       "      <td>NaN</td>\n",
       "      <td>NaN</td>\n",
       "      <td>NaN</td>\n",
       "      <td>[blog_1235, blog_1203, blog_1258, blog_1196, b...</td>\n",
       "    </tr>\n",
       "    <tr>\n",
       "      <th>3</th>\n",
       "      <td>4</td>\n",
       "      <td>code4@test.com</td>\n",
       "      <td>jshpink82</td>\n",
       "      <td>code1234!</td>\n",
       "      <td>O</td>\n",
       "      <td>NaN</td>\n",
       "      <td>NaN</td>\n",
       "      <td>NaN</td>\n",
       "      <td>NaN</td>\n",
       "      <td>NaN</td>\n",
       "      <td>NaN</td>\n",
       "      <td>NaN</td>\n",
       "      <td>NaN</td>\n",
       "      <td>[blog_1216, blog_1257, blog_1214, blog_1230, b...</td>\n",
       "    </tr>\n",
       "    <tr>\n",
       "      <th>4</th>\n",
       "      <td>5</td>\n",
       "      <td>code5@test.com</td>\n",
       "      <td>zooty7979</td>\n",
       "      <td>code1234!</td>\n",
       "      <td>O</td>\n",
       "      <td>NaN</td>\n",
       "      <td>NaN</td>\n",
       "      <td>NaN</td>\n",
       "      <td>NaN</td>\n",
       "      <td>NaN</td>\n",
       "      <td>NaN</td>\n",
       "      <td>NaN</td>\n",
       "      <td>NaN</td>\n",
       "      <td>[blog_1177, blog_1253, blog_1191, blog_1239, b...</td>\n",
       "    </tr>\n",
       "    <tr>\n",
       "      <th>...</th>\n",
       "      <td>...</td>\n",
       "      <td>...</td>\n",
       "      <td>...</td>\n",
       "      <td>...</td>\n",
       "      <td>...</td>\n",
       "      <td>...</td>\n",
       "      <td>...</td>\n",
       "      <td>...</td>\n",
       "      <td>...</td>\n",
       "      <td>...</td>\n",
       "      <td>...</td>\n",
       "      <td>...</td>\n",
       "      <td>...</td>\n",
       "      <td>...</td>\n",
       "    </tr>\n",
       "    <tr>\n",
       "      <th>145</th>\n",
       "      <td>146</td>\n",
       "      <td>code146@test.com</td>\n",
       "      <td>wyatt_home</td>\n",
       "      <td>code1234!</td>\n",
       "      <td>NaN</td>\n",
       "      <td>NaN</td>\n",
       "      <td>NaN</td>\n",
       "      <td>O</td>\n",
       "      <td>NaN</td>\n",
       "      <td>O</td>\n",
       "      <td>NaN</td>\n",
       "      <td>NaN</td>\n",
       "      <td>NaN</td>\n",
       "      <td>[blog_930, blog_975, blog_1070, blog_1049, blo...</td>\n",
       "    </tr>\n",
       "    <tr>\n",
       "      <th>146</th>\n",
       "      <td>147</td>\n",
       "      <td>code147@test.com</td>\n",
       "      <td>yellow_8</td>\n",
       "      <td>code1234!</td>\n",
       "      <td>NaN</td>\n",
       "      <td>NaN</td>\n",
       "      <td>NaN</td>\n",
       "      <td>O</td>\n",
       "      <td>NaN</td>\n",
       "      <td>O</td>\n",
       "      <td>NaN</td>\n",
       "      <td>NaN</td>\n",
       "      <td>NaN</td>\n",
       "      <td>[blog_987, blog_1076, blog_967, blog_1087, blo...</td>\n",
       "    </tr>\n",
       "    <tr>\n",
       "      <th>147</th>\n",
       "      <td>148</td>\n",
       "      <td>code148@test.com</td>\n",
       "      <td>y3ll0w</td>\n",
       "      <td>code1234!</td>\n",
       "      <td>NaN</td>\n",
       "      <td>NaN</td>\n",
       "      <td>NaN</td>\n",
       "      <td>O</td>\n",
       "      <td>NaN</td>\n",
       "      <td>O</td>\n",
       "      <td>NaN</td>\n",
       "      <td>NaN</td>\n",
       "      <td>NaN</td>\n",
       "      <td>[blog_882, blog_891, blog_973, blog_1028, blog...</td>\n",
       "    </tr>\n",
       "    <tr>\n",
       "      <th>148</th>\n",
       "      <td>149</td>\n",
       "      <td>code149@test.com</td>\n",
       "      <td>for_yellow</td>\n",
       "      <td>code1234!</td>\n",
       "      <td>NaN</td>\n",
       "      <td>NaN</td>\n",
       "      <td>NaN</td>\n",
       "      <td>O</td>\n",
       "      <td>NaN</td>\n",
       "      <td>O</td>\n",
       "      <td>NaN</td>\n",
       "      <td>NaN</td>\n",
       "      <td>NaN</td>\n",
       "      <td>[blog_864, blog_871, blog_1040, blog_883, blog...</td>\n",
       "    </tr>\n",
       "    <tr>\n",
       "      <th>149</th>\n",
       "      <td>150</td>\n",
       "      <td>code150@test.com</td>\n",
       "      <td>mint.coco</td>\n",
       "      <td>code1234!</td>\n",
       "      <td>NaN</td>\n",
       "      <td>NaN</td>\n",
       "      <td>NaN</td>\n",
       "      <td>O</td>\n",
       "      <td>NaN</td>\n",
       "      <td>O</td>\n",
       "      <td>NaN</td>\n",
       "      <td>NaN</td>\n",
       "      <td>NaN</td>\n",
       "      <td>[blog_1089, blog_1017, blog_1085, blog_1018, b...</td>\n",
       "    </tr>\n",
       "  </tbody>\n",
       "</table>\n",
       "<p>150 rows × 14 columns</p>\n",
       "</div>"
      ],
      "text/plain": [
       "      번호    이메일(@test.com)         닉네임       비밀번호 음향/사운드 계절가전 영상가전 요리/주방 생활가전  \\\n",
       "0      1    code1@test.com  ellys.home  code1234!      O  NaN  NaN   NaN  NaN   \n",
       "1      2    code2@test.com   cosydaily  code1234!      O  NaN  NaN   NaN  NaN   \n",
       "2      3    code3@test.com   applely88  code1234!      O  NaN  NaN   NaN  NaN   \n",
       "3      4    code4@test.com   jshpink82  code1234!      O  NaN  NaN   NaN  NaN   \n",
       "4      5    code5@test.com   zooty7979  code1234!      O  NaN  NaN   NaN  NaN   \n",
       "..   ...               ...         ...        ...    ...  ...  ...   ...  ...   \n",
       "145  146  code146@test.com  wyatt_home  code1234!    NaN  NaN  NaN     O  NaN   \n",
       "146  147  code147@test.com    yellow_8  code1234!    NaN  NaN  NaN     O  NaN   \n",
       "147  148  code148@test.com      y3ll0w  code1234!    NaN  NaN  NaN     O  NaN   \n",
       "148  149  code149@test.com  for_yellow  code1234!    NaN  NaN  NaN     O  NaN   \n",
       "149  150  code150@test.com   mint.coco  code1234!    NaN  NaN  NaN     O  NaN   \n",
       "\n",
       "    뷰티가전 위생가전 의류관리기 건강가전                                          blog_list  \n",
       "0    NaN  NaN   NaN  NaN  [blog_1249, blog_1242, blog_1272, blog_1263, b...  \n",
       "1    NaN  NaN   NaN  NaN  [blog_1190, blog_1187, blog_1260, blog_1218, b...  \n",
       "2    NaN  NaN   NaN  NaN  [blog_1235, blog_1203, blog_1258, blog_1196, b...  \n",
       "3    NaN  NaN   NaN  NaN  [blog_1216, blog_1257, blog_1214, blog_1230, b...  \n",
       "4    NaN  NaN   NaN  NaN  [blog_1177, blog_1253, blog_1191, blog_1239, b...  \n",
       "..   ...  ...   ...  ...                                                ...  \n",
       "145    O  NaN   NaN  NaN  [blog_930, blog_975, blog_1070, blog_1049, blo...  \n",
       "146    O  NaN   NaN  NaN  [blog_987, blog_1076, blog_967, blog_1087, blo...  \n",
       "147    O  NaN   NaN  NaN  [blog_882, blog_891, blog_973, blog_1028, blog...  \n",
       "148    O  NaN   NaN  NaN  [blog_864, blog_871, blog_1040, blog_883, blog...  \n",
       "149    O  NaN   NaN  NaN  [blog_1089, blog_1017, blog_1085, blog_1018, b...  \n",
       "\n",
       "[150 rows x 14 columns]"
      ]
     },
     "execution_count": 246,
     "metadata": {},
     "output_type": "execute_result"
    }
   ],
   "source": [
    "virtual_user_df"
   ]
  },
  {
   "cell_type": "code",
   "execution_count": 247,
   "metadata": {},
   "outputs": [],
   "source": [
    "virtual_user_df.to_excel(\"가상유저_블로그_id_220502.xlsx\")"
   ]
  },
  {
   "cell_type": "code",
   "execution_count": 240,
   "metadata": {},
   "outputs": [],
   "source": [
    "sample_result_df.to_excel(\"sample_naver_blog_220502.xlsx\", index = False)"
   ]
  },
  {
   "cell_type": "code",
   "execution_count": null,
   "metadata": {},
   "outputs": [],
   "source": []
  },
  {
   "cell_type": "code",
   "execution_count": 243,
   "metadata": {},
   "outputs": [
    {
     "name": "stdout",
     "output_type": "stream",
     "text": [
      "img_name : LG전자 43NANO75KPA_생활속의 이득이 되는 정보를 수집하는 푸름나무_20210621_img_9.jpg, img_url : https://thisiswhymymomsmiled.com/wp-content/uploads/2021/06/20210621_191034-300x18.png\n",
      "img_name : 로보락 S7_은`s 기쁜하루_20220226_img_17.jpg, img_url : https://tble.kr/camimg.php?tcode=MjIyNjQzLW5pZF8yMzk4NzQyMS0yMzUxMDcz\n",
      "img_name : 로보락 S7_Bling Blossom_20211217_img_10.jpg, img_url : https://tble.kr/camimg.php?tcode=MjA1MDQwLW5pZF85MzA0ODMwNC0yMDg2ODg4\n"
     ]
    }
   ],
   "source": [
    "parallelize_dataframe(df = sample_result_df, func = save_images_par, group_keys = \"keyword\", num_cores = 60)"
   ]
  },
  {
   "cell_type": "code",
   "execution_count": 29,
   "metadata": {},
   "outputs": [],
   "source": []
  },
  {
   "cell_type": "code",
   "execution_count": 17,
   "metadata": {},
   "outputs": [],
   "source": [
    "pd.DataFrame(result_dict).to_parquet(\"blog_data_220312.parquet\", index = False)"
   ]
  },
  {
   "cell_type": "code",
   "execution_count": 7,
   "metadata": {},
   "outputs": [],
   "source": [
    "pd.DataFrame(result_dict).to_excel(\"blog_data_220501.xlsx\", index = False, encoding = \"CP949\")"
   ]
  },
  {
   "cell_type": "code",
   "execution_count": 205,
   "metadata": {},
   "outputs": [],
   "source": [
    "virtual_user_df.to_excel(\"가상유저_블로그_id_220502.xlsx\")"
   ]
  },
  {
   "cell_type": "code",
   "execution_count": 177,
   "metadata": {},
   "outputs": [
    {
     "data": {
      "text/plain": [
       "array([ True])"
      ]
     },
     "execution_count": 177,
     "metadata": {},
     "output_type": "execute_result"
    }
   ],
   "source": [
    "virtual_user_df.loc[virtual_user_df[\"번호\"] == user_id, \"blog_list\"].index == 1"
   ]
  },
  {
   "cell_type": "code",
   "execution_count": null,
   "metadata": {},
   "outputs": [],
   "source": [
    "virtual_user_df.loc[virtual_user_df[\"번호\"] == user_id, \"blog_list\"]"
   ]
  },
  {
   "cell_type": "code",
   "execution_count": 141,
   "metadata": {},
   "outputs": [
    {
     "data": {
      "text/plain": [
       "300    blog_301\n",
       "301    blog_302\n",
       "302    blog_303\n",
       "303    blog_304\n",
       "304    blog_305\n",
       "         ...   \n",
       "535    blog_536\n",
       "536    blog_537\n",
       "537    blog_538\n",
       "538    blog_539\n",
       "539    blog_540\n",
       "Name: id, Length: 240, dtype: object"
      ]
     },
     "execution_count": 141,
     "metadata": {},
     "output_type": "execute_result"
    }
   ],
   "source": [
    "sample_result_df.loc[sample_result_df[\"알파카테고리\"] == category, \"id\"]"
   ]
  },
  {
   "cell_type": "code",
   "execution_count": 118,
   "metadata": {},
   "outputs": [],
   "source": [
    "category_user = virtual_user_df.loc[virtual_user_df[\"음향/사운드\"] == \"O\"]\n",
    "num_user = category_user.shape[0]"
   ]
  },
  {
   "cell_type": "code",
   "execution_count": null,
   "metadata": {},
   "outputs": [],
   "source": []
  }
 ],
 "metadata": {
  "kernelspec": {
   "display_name": "Python 3",
   "language": "python",
   "name": "python3"
  },
  "language_info": {
   "codemirror_mode": {
    "name": "ipython",
    "version": 3
   },
   "file_extension": ".py",
   "mimetype": "text/x-python",
   "name": "python",
   "nbconvert_exporter": "python",
   "pygments_lexer": "ipython3",
   "version": "3.10.12"
  },
  "orig_nbformat": 4,
  "vscode": {
   "interpreter": {
    "hash": "916dbcbb3f70747c44a77c7bcd40155683ae19c65e1c03b4aa3499c5328201f1"
   }
  }
 },
 "nbformat": 4,
 "nbformat_minor": 2
}
