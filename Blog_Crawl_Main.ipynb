{
 "cells": [
  {
   "cell_type": "code",
   "execution_count": 1,
   "metadata": {},
   "outputs": [],
   "source": [
    "%load_ext autoreload\n",
    "%autoreload 2\n",
    "from Naver_Blog_Crawl import *\n",
    "from multiprocessing_on_dill import Pool, cpu_count\n",
    "from functools import partial\n",
    "# from tqdm import tqdm\n",
    "import pandas as pd\n",
    "import numpy as np\n",
    "import sys\n",
    "import os\n",
    "import lxml\n",
    "from collections import defaultdict"
   ]
  },
  {
   "cell_type": "code",
   "execution_count": 2,
   "metadata": {},
   "outputs": [],
   "source": [
    "keyword = [\"키치\", \"kitsch\", \"모노\", \"컬러풀\", \"유니크\", \"미드센츄리\", \"클래식\", \"빈티지\", \"레트로\", \"모던\", \"심플\", \"럭셔리\", \"프리미엄\", \"프로페셔널\", \"고사양\", \"전문가\", \"미니\", \"소형\", \"네츄럴\", '우드', \"화이트\"]\n",
    "eow = [\"전자 제품\", \"가전 제품\"]\n",
    "\n",
    "search_keywords = []\n",
    "for k in keyword:\n",
    "    for e in eow:\n",
    "        search_keywords.append(k + \" \" + e)\n"
   ]
  },
  {
   "cell_type": "code",
   "execution_count": 3,
   "metadata": {},
   "outputs": [],
   "source": [
    "num_cores = 40\n",
    "search_keywords_split = np.array_split(search_keywords, num_cores)"
   ]
  },
  {
   "cell_type": "code",
   "execution_count": 4,
   "metadata": {},
   "outputs": [],
   "source": [
    "def collect_blog(keywords):\n",
    "    naver_blog_crawl = NaverBlogCrawl()\n",
    "    return naver_blog_crawl.collect_blog(keywords, keywords_start_idx = 0, maximum = 100)"
   ]
  },
  {
   "cell_type": "code",
   "execution_count": null,
   "metadata": {},
   "outputs": [],
   "source": [
    "with Pool(num_cores) as p:\n",
    "    results_async=p.map_async(collect_blog, search_keywords_split)\n",
    "    results_async.get()"
   ]
  },
  {
   "cell_type": "code",
   "execution_count": 22,
   "metadata": {},
   "outputs": [
    {
     "name": "stdout",
     "output_type": "stream",
     "text": [
      "0, keyword : 모노 가전 제품, # of blogs : 1\n",
      "{'title': '세종 키즈풀 &lt;<b>모노</b>빌&gt; 아이와 함께 실내 온수풀장에서...', 'link': 'https://blog.naver.com/bom_ann/222939562203', 'description': '식탁위에는 <b>가전제품</b> 사용법 및 온수 추가하는 방법, 주의사항 등의 안내사항이 꼼꼼하게 메모되어... 특히, <b>모노</b>빌의 샤워용품, 스킨케어<b>제품</b>은 모두 저자극 비건<b>제품</b>이라서 아이들에게도 마음편히 사용 할...', 'bloggername': '봄앤 기록장✍', 'bloggerlink': 'blog.naver.com/bom_ann', 'postdate': '20221127'}\n"
     ]
    }
   ],
   "source": [
    "naver_blog_crawl = NaverBlogCrawl()\n",
    "result = naver_blog_crawl.collect_blog(search_keywords[2], keywords_start_idx = 0, num_blogs= 1)\n",
    "# pd.DataFrame(result).to_excel(\"temp.xlsx\")"
   ]
  },
  {
   "cell_type": "code",
   "execution_count": null,
   "metadata": {},
   "outputs": [],
   "source": [
    "naver_blog_crawl = NaverBlogCrawl()\n",
    "result = naver_blog_crawl.collect_blog(search_keywords[:4], keywords_start_idx = 0, num_blogs= 1)\n",
    "pd.DataFrame(result).to_excel(\"temp.xlsx\")"
   ]
  },
  {
   "cell_type": "code",
   "execution_count": null,
   "metadata": {},
   "outputs": [],
   "source": [
    "naver_blog_crawl = NaverBlogCrawl() # 23.8\n",
    "result = naver_blog_crawl.collect_blog(\"LG스탠바이미\")"
   ]
  },
  {
   "cell_type": "code",
   "execution_count": 6,
   "metadata": {},
   "outputs": [],
   "source": [
    "def merge_dict(org_dict:dict, new_dict:dict, type:str = \"full\"):\n",
    "    if type == \"full\":\n",
    "        keys = pd.unique(list(org_dict.keys()) + list(new_dict.keys()))\n",
    "    elif type == \"left\":\n",
    "        keys = list(org_dict.keys())\n",
    "    elif type == \"right\":\n",
    "        keys = list(new_dict.keys())\n",
    "\n",
    "\n",
    "    for key in keys:\n",
    "        if isinstance(new_dict[key], list):\n",
    "            org_dict[key].extend(new_dict[key])\n",
    "        else:\n",
    "            org_dict[key].append(new_dict[key])\n",
    "    \n",
    "    return org_dict"
   ]
  },
  {
   "cell_type": "code",
   "execution_count": 7,
   "metadata": {},
   "outputs": [],
   "source": [
    "result_dict = defaultdict(list)\n",
    "blog_dicts = os.listdir(\"./blog_dict\")\n",
    "for x in blog_dicts:\n",
    "    with open(f\"./blog_dict/{x}\", \"rb\") as f:\n",
    "        blog_dict = pickle.load(f)\n",
    "        result_dict = merge_dict(result_dict, blog_dict)"
   ]
  },
  {
   "cell_type": "code",
   "execution_count": 9,
   "metadata": {},
   "outputs": [],
   "source": [
    "result_df = pd.DataFrame(result_dict).drop_duplicates(\"blog_url\")"
   ]
  },
  {
   "cell_type": "code",
   "execution_count": null,
   "metadata": {},
   "outputs": [],
   "source": [
    "result_df[\"keyword\"].drop_duplicates()"
   ]
  },
  {
   "cell_type": "code",
   "execution_count": 12,
   "metadata": {},
   "outputs": [],
   "source": [
    "duplicated_blogs = result_df[[\"writer_name\", \"post_date\"]].value_counts()\n",
    "duplicated_blogs = duplicated_blogs.loc[duplicated_blogs>1].reset_index()"
   ]
  },
  {
   "cell_type": "code",
   "execution_count": 13,
   "metadata": {},
   "outputs": [],
   "source": [
    "result_df = result_df.loc[result_df[\"writer_name\"].isin(duplicated_blogs[\"writer_name\"])==False]"
   ]
  },
  {
   "cell_type": "code",
   "execution_count": 9,
   "metadata": {},
   "outputs": [],
   "source": [
    "def save_images(img_urls:str, img_names:str, img_dir:str = \"./image\"):\n",
    "    \n",
    "    if not os.path.exists(img_dir):\n",
    "        os.makedirs(img_dir)\n",
    "\n",
    "\n",
    "    for img_url, img_name in zip(img_urls, img_names):\n",
    "        # image 저장        \n",
    "        try:\n",
    "            img_rq = requests.get(img_url, verify = False)\n",
    "            with open(f\"{img_dir}/{img_name.replace('/','_')}\", \"wb\") as f:\n",
    "                f.write(img_rq.content)\n",
    "        except: \n",
    "            print(f\"img_name : {img_name}, img_url : {img_url}\")"
   ]
  },
  {
   "cell_type": "code",
   "execution_count": 241,
   "metadata": {},
   "outputs": [],
   "source": [
    "from multiprocessing_on_dill import Pool, cpu_count\n",
    "from functools import partial\n",
    "# from tqdm import tqdm\n",
    "import pandas as pd\n",
    "import numpy as np\n",
    "\n",
    "\n",
    "def parallelize_dataframe(df, \n",
    "                          func, \n",
    "                          group_keys = None, \n",
    "                          num_cores = None,\n",
    "                          **params):\n",
    "    \"\"\"\n",
    "        Pandas DataFrame의 apply함수를 병렬처리 하는 함수\n",
    "        Args: \n",
    "            df: 적용 대상 데이터프레임 (Pandas.DataFrame)\n",
    "            group_keys: apply를 적용할 때 기준이되는 group by key\n",
    "        Returns:\n",
    "            df: (Pandas.DataFrame)\n",
    "            \n",
    "        Exception: \n",
    "    \"\"\"\n",
    "\n",
    "    if num_cores is None:\n",
    "        num_cores = cpu_count()\n",
    "\n",
    "    if group_keys is None:\n",
    "        df_list = np.array_split(df, num_cores)\n",
    "    elif group_keys is not None:\n",
    "        gr_df = df.groupby(group_keys)\n",
    "        df_list = [group for name, group in gr_df]\n",
    "    \n",
    "#     tqdm.pandas()\n",
    "    #func = partial(func, **params)\n",
    "    \n",
    "    # def map_func(data):\n",
    "    #     return data.apply(func, axis = 1, **params)\n",
    "#         return data.progress_apply(func, axis = 1, **params)\n",
    "        \n",
    "        \n",
    "    with Pool(num_cores) as p:\n",
    "        p.map(func, df_list)\n",
    "#         pd_result = p.starmap(func, **params)"
   ]
  },
  {
   "cell_type": "code",
   "execution_count": 242,
   "metadata": {},
   "outputs": [],
   "source": [
    "def save_images_par(temp_df):\n",
    "    for row in temp_df[[\"keyword\", \"images\", \"image_urls\"]].iterrows():\n",
    "        save_images(img_urls = row[1][2], img_names = row[1][1], img_dir = f\"/mnt/d/Crawl/Naver_Blog_Crawl/sample_image/{row[1][0].replace('/','_')}\")"
   ]
  },
  {
   "cell_type": "code",
   "execution_count": null,
   "metadata": {},
   "outputs": [],
   "source": [
    "parallelize_dataframe(df = result_df, func = save_images_par, group_keys = \"keyword\", num_cores = 40)"
   ]
  },
  {
   "cell_type": "code",
   "execution_count": 14,
   "metadata": {},
   "outputs": [
    {
     "name": "stderr",
     "output_type": "stream",
     "text": [
      "/tmp/ipykernel_13533/4030479231.py:1: UserWarning: This pattern is interpreted as a regular expression, and has match groups. To actually get the groups, use str.extract.\n",
      "  result_df = result_df.loc[result_df[\"writer_name\"].str.contains(\"\"\"(업체)|(시공)|(구매대행)|(시스템)|(전문)|(판매)|\n",
      "/tmp/ipykernel_13533/4030479231.py:5: UserWarning: This pattern is interpreted as a regular expression, and has match groups. To actually get the groups, use str.extract.\n",
      "  result_df = result_df.loc[result_df[\"title\"].str.contains(\"\"\"(업체)|(시공)|(구매대행)|(시스템)|(전문)|(판매)|(센터)|\n",
      "/tmp/ipykernel_13533/4030479231.py:9: UserWarning: This pattern is interpreted as a regular expression, and has match groups. To actually get the groups, use str.extract.\n",
      "  result_df = result_df.loc[result_df[\"tags\"].str.contains(\"\"\"(업체)|(시공)|(구매대행)|(시스템)|(전문)|(판매)|(센터)|(중고)|(청소)|\n"
     ]
    }
   ],
   "source": [
    "result_df = result_df.loc[result_df[\"writer_name\"].str.contains(\"\"\"(업체)|(시공)|(구매대행)|(시스템)|(전문)|(판매)|\n",
    "                                                                   (센터)|(중고)|(청소)|(가전)|(렌탈)|(베스트샵)|(삼성)|\n",
    "                                                                   (리폼)|(교체)|(홈쇼핑)|(닷컴)|(공식)|(\\(주\\))|(특가)|(이벤트)|(할인)|\n",
    "                                                                   (신문)|(선택장애 살아가기)|(삼시육끼)\"\"\")==False]\n",
    "result_df = result_df.loc[result_df[\"title\"].str.contains(\"\"\"(업체)|(시공)|(구매대행)|(시스템)|(전문)|(판매)|(센터)|\n",
    "                                                             (중고)|(청소)|(가전)|(렌탈)|(베스트샵)|(삼성)|(리폼)|(교체)|\n",
    "                                                             (체험단)|(홈쇼핑)|(닷컴)|(기부)|(방송)|(특가)|(이벤트)|(할인)|\n",
    "                                                             (리스트)|(요약)|(리포트)\"\"\")==False]\n",
    "result_df = result_df.loc[result_df[\"tags\"].str.contains(\"\"\"(업체)|(시공)|(구매대행)|(시스템)|(전문)|(판매)|(센터)|(중고)|(청소)|\n",
    "                                                            (가전)|(렌탈)|(베스트샵)|(삼성)|(리폼)|(교체)|(체험단)|(홈쇼핑)|(닷컴)|\n",
    "                                                            (특가)|(이벤트)|(할인)\"\"\")==False]"
   ]
  },
  {
   "cell_type": "code",
   "execution_count": 15,
   "metadata": {},
   "outputs": [],
   "source": [
    "result_df = result_df.loc[result_df[\"post_date\"]>=\"2020000\"]"
   ]
  },
  {
   "cell_type": "code",
   "execution_count": 16,
   "metadata": {},
   "outputs": [
    {
     "name": "stderr",
     "output_type": "stream",
     "text": [
      "/tmp/ipykernel_13533/2667990024.py:1: UserWarning: This pattern is interpreted as a regular expression, and has match groups. To actually get the groups, use str.extract.\n",
      "  result_df = result_df.loc[result_df[\"contents\"].str.contains(\"\"\"(랭킹)|(상세 페이지)|(체험단)|(입금)|(익일)|(검색)|(프로모션)|\n"
     ]
    }
   ],
   "source": [
    "result_df = result_df.loc[result_df[\"contents\"].str.contains(\"\"\"(랭킹)|(상세 페이지)|(체험단)|(입금)|(익일)|(검색)|(프로모션)|\n",
    "                                                                (소식)|(포토툰)|(설치)|(닷컴)|(주소)|(전화)|(영업시간)|(스토어)|\n",
    "                                                                ([\\d]+원)|(010-)|(주식)|(카카오톡)|(채널)|(주가)|(주주)|(차트)|(전시)|\n",
    "                                                                (가정의)|([\\d]{3,4}-[\\d]{3,4}-[\\d]{4})|(이벤트)|(바로가기)|(도서)|(리스트)|\n",
    "                                                                (요약)|(리포트)|(클릭)|(할\\.인)|(구\\.매)|(전문점)|(교환)|(소정)|(기자)|(출처)|\n",
    "                                                                (소공미디어)|(정시)|(접수)|(참여)|(관련주)|(매수)\"\"\")==False]"
   ]
  },
  {
   "cell_type": "code",
   "execution_count": 226,
   "metadata": {},
   "outputs": [],
   "source": [
    "result_df = result_df.loc[(result_df[\"image_urls\"].apply(lambda x: len(x)) != 0)]"
   ]
  },
  {
   "cell_type": "code",
   "execution_count": 227,
   "metadata": {},
   "outputs": [],
   "source": [
    "result_df = result_df.loc[result_df[\"image_urls\"].apply(lambda x: len(x)) < 30]"
   ]
  },
  {
   "cell_type": "code",
   "execution_count": 21,
   "metadata": {},
   "outputs": [
    {
     "name": "stderr",
     "output_type": "stream",
     "text": [
      "/home/seho/.local/lib/python3.10/site-packages/pandas/util/_decorators.py:211: FutureWarning: the 'encoding' keyword is deprecated and will be removed in a future version. Please take steps to stop the use of 'encoding'\n",
      "  return func(*args, **kwargs)\n"
     ]
    }
   ],
   "source": [
    "result_df.to_excel(\"blog_data_230111.xlsx\", index = False, encoding = \"CP949\")"
   ]
  },
  {
   "cell_type": "code",
   "execution_count": 91,
   "metadata": {},
   "outputs": [],
   "source": [
    "blogId = re.search(r\"blogId=([a-zA-Z0-9_-]+)\", blog_url).group(1)\n",
    "logNoList = re.search(r\"logNo=([\\d]+)\", blog_url).group(1)"
   ]
  },
  {
   "cell_type": "code",
   "execution_count": 89,
   "metadata": {},
   "outputs": [],
   "source": [
    "from multiprocessing_on_dill import Pool, cpu_count\n",
    "from functools import partial\n",
    "# from tqdm import tqdm\n",
    "import pandas as pd\n",
    "import numpy as np\n",
    "\n",
    "\n",
    "def parallelize_dataframe(df, \n",
    "                          func, \n",
    "                          group_keys = None, \n",
    "                          num_cores = None,\n",
    "                          **params):\n",
    "    \"\"\"\n",
    "        Pandas DataFrame의 apply함수를 병렬처리 하는 함수\n",
    "        Args: \n",
    "            df: 적용 대상 데이터프레임 (Pandas.DataFrame)\n",
    "            group_keys: apply를 적용할 때 기준이되는 group by key\n",
    "        Returns:\n",
    "            df: (Pandas.DataFrame)\n",
    "            \n",
    "        Exception: \n",
    "    \"\"\"\n",
    "\n",
    "    if num_cores is None:\n",
    "        num_cores = cpu_count()\n",
    "\n",
    "    if group_keys is None:\n",
    "        df_list = np.array_split(df, num_cores)\n",
    "    elif group_keys is not None:\n",
    "        gr_df = df.groupby(group_keys)\n",
    "        df_list = [group for name, group in gr_df]\n",
    "    \n",
    "#     tqdm.pandas()\n",
    "    #func = partial(func, **params)\n",
    "    \n",
    "    # def map_func(data):\n",
    "    #     return data.apply(func, axis = 1, **params)\n",
    "#         return data.progress_apply(func, axis = 1, **params)\n",
    "        \n",
    "        \n",
    "    with Pool(num_cores) as p:\n",
    "        pd_result = pd.concat(p.map(func, df_list))\n",
    "#         pd_result = p.starmap(func, **params)\n",
    "        \n",
    "    return pd_result"
   ]
  },
  {
   "cell_type": "code",
   "execution_count": 90,
   "metadata": {},
   "outputs": [],
   "source": [
    "def get_blog_like_count(blog_url):\n",
    "    blogId = re.search(r\"blogId=([a-zA-Z0-9_-]+)\", blog_url).group(1)\n",
    "    logNoList = re.search(r\"logNo=([\\d]+)\", blog_url).group(1)\n",
    "\n",
    "    like_base_url = \"https://blog.like.naver.com/v1/search/contents\"\n",
    "    params_dict = {\"suppress_response_codes\" : \"true\",\n",
    "                   \"q\" : f\"BLOG[{blogId}_{logNoList}]\"}\n",
    "\n",
    "    blog_rq = requests.get(like_base_url, params_dict)\n",
    "    \n",
    "    if len(blog_rq.json()[\"contents\"][0][\"reactions\"]) == 0:\n",
    "        like_count = 0\n",
    "    else:\n",
    "        like_count = blog_rq.json()[\"contents\"][0][\"reactions\"][0][\"count\"]\n",
    "    return like_count\n"
   ]
  },
  {
   "cell_type": "code",
   "execution_count": 91,
   "metadata": {},
   "outputs": [],
   "source": [
    "def get_like_par(url_list):\n",
    "    like_list = []\n",
    "    blog_url_list = []\n",
    "    for i, blog_url in enumerate(url_list):\n",
    "        blog_url_list.append(blog_url)\n",
    "        like_list.append(get_blog_like_count(blog_url))\n",
    "\n",
    "    return pd.DataFrame({\"blog_url\" : blog_url_list, \"like\" : like_list})"
   ]
  },
  {
   "cell_type": "code",
   "execution_count": 21,
   "metadata": {},
   "outputs": [],
   "source": [
    "like_df = parallelize_dataframe(df = result_df[\"blog_url\"], func = get_like_par, num_cores = 50)"
   ]
  },
  {
   "cell_type": "code",
   "execution_count": 191,
   "metadata": {},
   "outputs": [
    {
     "name": "stdout",
     "output_type": "stream",
     "text": [
      "(18431, 11)\n"
     ]
    }
   ],
   "source": [
    "result_df = pd.merge(result_df, like_df, on = \"blog_url\")\n",
    "print(result_df.shape)"
   ]
  },
  {
   "cell_type": "code",
   "execution_count": 192,
   "metadata": {},
   "outputs": [
    {
     "name": "stdout",
     "output_type": "stream",
     "text": [
      "(18431, 15)\n"
     ]
    }
   ],
   "source": [
    "result_df = pd.merge(result_df, product_data[[\"keyword\", \"category1Name\", \"category2Name\", \"category3Name\", \"category4Name\"]].drop_duplicates(\"keyword\"), on = \"keyword\")\n",
    "print(result_df.shape)"
   ]
  },
  {
   "cell_type": "code",
   "execution_count": 193,
   "metadata": {},
   "outputs": [],
   "source": [
    "result_df = result_df.loc[result_df[\"category2Name\"] != \"인테리어소품\"]"
   ]
  },
  {
   "cell_type": "code",
   "execution_count": 194,
   "metadata": {},
   "outputs": [],
   "source": [
    "category3_df = pd.read_csv(\"소카테고리.csv\", encoding = \"CP949\")"
   ]
  },
  {
   "cell_type": "code",
   "execution_count": 195,
   "metadata": {},
   "outputs": [],
   "source": [
    "result_df = pd.merge(result_df, category3_df, left_on = \"category3Name\", right_on = \"소카테고리\")"
   ]
  },
  {
   "cell_type": "code",
   "execution_count": 196,
   "metadata": {},
   "outputs": [],
   "source": [
    "virtual_user_df = pd.read_excel(\"~/Project_C/1차오픈용계정_0428.xlsx\")"
   ]
  },
  {
   "cell_type": "code",
   "execution_count": 197,
   "metadata": {},
   "outputs": [
    {
     "data": {
      "text/plain": [
       "array(['요리/주방', '음향/사운드', '영상가전', '생활가전', '뷰티가전', '계절가전', '건강가전', '의류관리기',\n",
       "       '위생가전'], dtype=object)"
      ]
     },
     "execution_count": 197,
     "metadata": {},
     "output_type": "execute_result"
    }
   ],
   "source": [
    "result_df[\"알파카테고리\"].unique()"
   ]
  },
  {
   "cell_type": "code",
   "execution_count": 198,
   "metadata": {},
   "outputs": [],
   "source": [
    "alpha_category = [\"음향/사운드\", \"계절가전\", \"영상가전\", \"요리/주방\", \"생활가전\", \"뷰티가전\", \"위생가전\", \"의류관리기\", \"건강가전\"]"
   ]
  },
  {
   "cell_type": "code",
   "execution_count": 199,
   "metadata": {},
   "outputs": [],
   "source": [
    "category_num = (virtual_user_df[alpha_category].isna() == False).sum().to_dict()"
   ]
  },
  {
   "cell_type": "code",
   "execution_count": 200,
   "metadata": {},
   "outputs": [
    {
     "data": {
      "text/plain": [
       "{'음향/사운드': 20,\n",
       " '계절가전': 40,\n",
       " '영상가전': 35,\n",
       " '요리/주방': 50,\n",
       " '생활가전': 60,\n",
       " '뷰티가전': 25,\n",
       " '위생가전': 15,\n",
       " '의류관리기': 10,\n",
       " '건강가전': 10}"
      ]
     },
     "execution_count": 200,
     "metadata": {},
     "output_type": "execute_result"
    }
   ],
   "source": [
    "category_num"
   ]
  },
  {
   "cell_type": "code",
   "execution_count": 234,
   "metadata": {},
   "outputs": [],
   "source": [
    "sample_result_df = result_df.groupby(\"알파카테고리\").apply(lambda x: x.sort_values(\"like\", ascending = False).head(category_num[x[\"알파카테고리\"].to_list()[0]]*5)).reset_index(drop=True)\n",
    "sample_result_df[\"id\"] = [f\"blog_{i+1}\" for i in range(sample_result_df.shape[0])]"
   ]
  },
  {
   "cell_type": "code",
   "execution_count": 235,
   "metadata": {},
   "outputs": [
    {
     "data": {
      "text/plain": [
       "(1325, 18)"
      ]
     },
     "execution_count": 235,
     "metadata": {},
     "output_type": "execute_result"
    }
   ],
   "source": [
    "sample_result_df.shape"
   ]
  },
  {
   "cell_type": "code",
   "execution_count": 236,
   "metadata": {},
   "outputs": [],
   "source": [
    "import random"
   ]
  },
  {
   "cell_type": "code",
   "execution_count": 244,
   "metadata": {},
   "outputs": [],
   "source": [
    "virtual_user_df[\"blog_list\"] = [[] for _ in range(virtual_user_df.shape[0])]"
   ]
  },
  {
   "cell_type": "code",
   "execution_count": 245,
   "metadata": {},
   "outputs": [],
   "source": [
    "for category in alpha_category:\n",
    "    category_user = virtual_user_df.loc[virtual_user_df[category] == \"O\"]\n",
    "    # num_user = category_user.shape[0]\n",
    "    user_ids = category_user[\"번호\"]\n",
    "    \n",
    "    sampled_list = []\n",
    "    for user_id in user_ids:\n",
    "        category_blog_id = sample_result_df.loc[(sample_result_df[\"알파카테고리\"] == category) & (sample_result_df[\"id\"].isin(sampled_list) == False), \"id\"].to_list()\n",
    "        temp_sampled_list = random.sample(category_blog_id, 5)\n",
    "        sampled_list.extend(temp_sampled_list)\n",
    "\n",
    "        temp = virtual_user_df.loc[virtual_user_df[\"번호\"] == user_id, \"blog_list\"]\n",
    "        temp[temp.index.item()].extend(temp_sampled_list)"
   ]
  },
  {
   "cell_type": "code",
   "execution_count": 246,
   "metadata": {},
   "outputs": [
    {
     "data": {
      "text/html": [
       "<div>\n",
       "<style scoped>\n",
       "    .dataframe tbody tr th:only-of-type {\n",
       "        vertical-align: middle;\n",
       "    }\n",
       "\n",
       "    .dataframe tbody tr th {\n",
       "        vertical-align: top;\n",
       "    }\n",
       "\n",
       "    .dataframe thead th {\n",
       "        text-align: right;\n",
       "    }\n",
       "</style>\n",
       "<table border=\"1\" class=\"dataframe\">\n",
       "  <thead>\n",
       "    <tr style=\"text-align: right;\">\n",
       "      <th></th>\n",
       "      <th>번호</th>\n",
       "      <th>이메일(@test.com)</th>\n",
       "      <th>닉네임</th>\n",
       "      <th>비밀번호</th>\n",
       "      <th>음향/사운드</th>\n",
       "      <th>계절가전</th>\n",
       "      <th>영상가전</th>\n",
       "      <th>요리/주방</th>\n",
       "      <th>생활가전</th>\n",
       "      <th>뷰티가전</th>\n",
       "      <th>위생가전</th>\n",
       "      <th>의류관리기</th>\n",
       "      <th>건강가전</th>\n",
       "      <th>blog_list</th>\n",
       "    </tr>\n",
       "  </thead>\n",
       "  <tbody>\n",
       "    <tr>\n",
       "      <th>0</th>\n",
       "      <td>1</td>\n",
       "      <td>code1@test.com</td>\n",
       "      <td>ellys.home</td>\n",
       "      <td>code1234!</td>\n",
       "      <td>O</td>\n",
       "      <td>NaN</td>\n",
       "      <td>NaN</td>\n",
       "      <td>NaN</td>\n",
       "      <td>NaN</td>\n",
       "      <td>NaN</td>\n",
       "      <td>NaN</td>\n",
       "      <td>NaN</td>\n",
       "      <td>NaN</td>\n",
       "      <td>[blog_1249, blog_1242, blog_1272, blog_1263, b...</td>\n",
       "    </tr>\n",
       "    <tr>\n",
       "      <th>1</th>\n",
       "      <td>2</td>\n",
       "      <td>code2@test.com</td>\n",
       "      <td>cosydaily</td>\n",
       "      <td>code1234!</td>\n",
       "      <td>O</td>\n",
       "      <td>NaN</td>\n",
       "      <td>NaN</td>\n",
       "      <td>NaN</td>\n",
       "      <td>NaN</td>\n",
       "      <td>NaN</td>\n",
       "      <td>NaN</td>\n",
       "      <td>NaN</td>\n",
       "      <td>NaN</td>\n",
       "      <td>[blog_1190, blog_1187, blog_1260, blog_1218, b...</td>\n",
       "    </tr>\n",
       "    <tr>\n",
       "      <th>2</th>\n",
       "      <td>3</td>\n",
       "      <td>code3@test.com</td>\n",
       "      <td>applely88</td>\n",
       "      <td>code1234!</td>\n",
       "      <td>O</td>\n",
       "      <td>NaN</td>\n",
       "      <td>NaN</td>\n",
       "      <td>NaN</td>\n",
       "      <td>NaN</td>\n",
       "      <td>NaN</td>\n",
       "      <td>NaN</td>\n",
       "      <td>NaN</td>\n",
       "      <td>NaN</td>\n",
       "      <td>[blog_1235, blog_1203, blog_1258, blog_1196, b...</td>\n",
       "    </tr>\n",
       "    <tr>\n",
       "      <th>3</th>\n",
       "      <td>4</td>\n",
       "      <td>code4@test.com</td>\n",
       "      <td>jshpink82</td>\n",
       "      <td>code1234!</td>\n",
       "      <td>O</td>\n",
       "      <td>NaN</td>\n",
       "      <td>NaN</td>\n",
       "      <td>NaN</td>\n",
       "      <td>NaN</td>\n",
       "      <td>NaN</td>\n",
       "      <td>NaN</td>\n",
       "      <td>NaN</td>\n",
       "      <td>NaN</td>\n",
       "      <td>[blog_1216, blog_1257, blog_1214, blog_1230, b...</td>\n",
       "    </tr>\n",
       "    <tr>\n",
       "      <th>4</th>\n",
       "      <td>5</td>\n",
       "      <td>code5@test.com</td>\n",
       "      <td>zooty7979</td>\n",
       "      <td>code1234!</td>\n",
       "      <td>O</td>\n",
       "      <td>NaN</td>\n",
       "      <td>NaN</td>\n",
       "      <td>NaN</td>\n",
       "      <td>NaN</td>\n",
       "      <td>NaN</td>\n",
       "      <td>NaN</td>\n",
       "      <td>NaN</td>\n",
       "      <td>NaN</td>\n",
       "      <td>[blog_1177, blog_1253, blog_1191, blog_1239, b...</td>\n",
       "    </tr>\n",
       "    <tr>\n",
       "      <th>...</th>\n",
       "      <td>...</td>\n",
       "      <td>...</td>\n",
       "      <td>...</td>\n",
       "      <td>...</td>\n",
       "      <td>...</td>\n",
       "      <td>...</td>\n",
       "      <td>...</td>\n",
       "      <td>...</td>\n",
       "      <td>...</td>\n",
       "      <td>...</td>\n",
       "      <td>...</td>\n",
       "      <td>...</td>\n",
       "      <td>...</td>\n",
       "      <td>...</td>\n",
       "    </tr>\n",
       "    <tr>\n",
       "      <th>145</th>\n",
       "      <td>146</td>\n",
       "      <td>code146@test.com</td>\n",
       "      <td>wyatt_home</td>\n",
       "      <td>code1234!</td>\n",
       "      <td>NaN</td>\n",
       "      <td>NaN</td>\n",
       "      <td>NaN</td>\n",
       "      <td>O</td>\n",
       "      <td>NaN</td>\n",
       "      <td>O</td>\n",
       "      <td>NaN</td>\n",
       "      <td>NaN</td>\n",
       "      <td>NaN</td>\n",
       "      <td>[blog_930, blog_975, blog_1070, blog_1049, blo...</td>\n",
       "    </tr>\n",
       "    <tr>\n",
       "      <th>146</th>\n",
       "      <td>147</td>\n",
       "      <td>code147@test.com</td>\n",
       "      <td>yellow_8</td>\n",
       "      <td>code1234!</td>\n",
       "      <td>NaN</td>\n",
       "      <td>NaN</td>\n",
       "      <td>NaN</td>\n",
       "      <td>O</td>\n",
       "      <td>NaN</td>\n",
       "      <td>O</td>\n",
       "      <td>NaN</td>\n",
       "      <td>NaN</td>\n",
       "      <td>NaN</td>\n",
       "      <td>[blog_987, blog_1076, blog_967, blog_1087, blo...</td>\n",
       "    </tr>\n",
       "    <tr>\n",
       "      <th>147</th>\n",
       "      <td>148</td>\n",
       "      <td>code148@test.com</td>\n",
       "      <td>y3ll0w</td>\n",
       "      <td>code1234!</td>\n",
       "      <td>NaN</td>\n",
       "      <td>NaN</td>\n",
       "      <td>NaN</td>\n",
       "      <td>O</td>\n",
       "      <td>NaN</td>\n",
       "      <td>O</td>\n",
       "      <td>NaN</td>\n",
       "      <td>NaN</td>\n",
       "      <td>NaN</td>\n",
       "      <td>[blog_882, blog_891, blog_973, blog_1028, blog...</td>\n",
       "    </tr>\n",
       "    <tr>\n",
       "      <th>148</th>\n",
       "      <td>149</td>\n",
       "      <td>code149@test.com</td>\n",
       "      <td>for_yellow</td>\n",
       "      <td>code1234!</td>\n",
       "      <td>NaN</td>\n",
       "      <td>NaN</td>\n",
       "      <td>NaN</td>\n",
       "      <td>O</td>\n",
       "      <td>NaN</td>\n",
       "      <td>O</td>\n",
       "      <td>NaN</td>\n",
       "      <td>NaN</td>\n",
       "      <td>NaN</td>\n",
       "      <td>[blog_864, blog_871, blog_1040, blog_883, blog...</td>\n",
       "    </tr>\n",
       "    <tr>\n",
       "      <th>149</th>\n",
       "      <td>150</td>\n",
       "      <td>code150@test.com</td>\n",
       "      <td>mint.coco</td>\n",
       "      <td>code1234!</td>\n",
       "      <td>NaN</td>\n",
       "      <td>NaN</td>\n",
       "      <td>NaN</td>\n",
       "      <td>O</td>\n",
       "      <td>NaN</td>\n",
       "      <td>O</td>\n",
       "      <td>NaN</td>\n",
       "      <td>NaN</td>\n",
       "      <td>NaN</td>\n",
       "      <td>[blog_1089, blog_1017, blog_1085, blog_1018, b...</td>\n",
       "    </tr>\n",
       "  </tbody>\n",
       "</table>\n",
       "<p>150 rows × 14 columns</p>\n",
       "</div>"
      ],
      "text/plain": [
       "      번호    이메일(@test.com)         닉네임       비밀번호 음향/사운드 계절가전 영상가전 요리/주방 생활가전  \\\n",
       "0      1    code1@test.com  ellys.home  code1234!      O  NaN  NaN   NaN  NaN   \n",
       "1      2    code2@test.com   cosydaily  code1234!      O  NaN  NaN   NaN  NaN   \n",
       "2      3    code3@test.com   applely88  code1234!      O  NaN  NaN   NaN  NaN   \n",
       "3      4    code4@test.com   jshpink82  code1234!      O  NaN  NaN   NaN  NaN   \n",
       "4      5    code5@test.com   zooty7979  code1234!      O  NaN  NaN   NaN  NaN   \n",
       "..   ...               ...         ...        ...    ...  ...  ...   ...  ...   \n",
       "145  146  code146@test.com  wyatt_home  code1234!    NaN  NaN  NaN     O  NaN   \n",
       "146  147  code147@test.com    yellow_8  code1234!    NaN  NaN  NaN     O  NaN   \n",
       "147  148  code148@test.com      y3ll0w  code1234!    NaN  NaN  NaN     O  NaN   \n",
       "148  149  code149@test.com  for_yellow  code1234!    NaN  NaN  NaN     O  NaN   \n",
       "149  150  code150@test.com   mint.coco  code1234!    NaN  NaN  NaN     O  NaN   \n",
       "\n",
       "    뷰티가전 위생가전 의류관리기 건강가전                                          blog_list  \n",
       "0    NaN  NaN   NaN  NaN  [blog_1249, blog_1242, blog_1272, blog_1263, b...  \n",
       "1    NaN  NaN   NaN  NaN  [blog_1190, blog_1187, blog_1260, blog_1218, b...  \n",
       "2    NaN  NaN   NaN  NaN  [blog_1235, blog_1203, blog_1258, blog_1196, b...  \n",
       "3    NaN  NaN   NaN  NaN  [blog_1216, blog_1257, blog_1214, blog_1230, b...  \n",
       "4    NaN  NaN   NaN  NaN  [blog_1177, blog_1253, blog_1191, blog_1239, b...  \n",
       "..   ...  ...   ...  ...                                                ...  \n",
       "145    O  NaN   NaN  NaN  [blog_930, blog_975, blog_1070, blog_1049, blo...  \n",
       "146    O  NaN   NaN  NaN  [blog_987, blog_1076, blog_967, blog_1087, blo...  \n",
       "147    O  NaN   NaN  NaN  [blog_882, blog_891, blog_973, blog_1028, blog...  \n",
       "148    O  NaN   NaN  NaN  [blog_864, blog_871, blog_1040, blog_883, blog...  \n",
       "149    O  NaN   NaN  NaN  [blog_1089, blog_1017, blog_1085, blog_1018, b...  \n",
       "\n",
       "[150 rows x 14 columns]"
      ]
     },
     "execution_count": 246,
     "metadata": {},
     "output_type": "execute_result"
    }
   ],
   "source": [
    "virtual_user_df"
   ]
  },
  {
   "cell_type": "code",
   "execution_count": 247,
   "metadata": {},
   "outputs": [],
   "source": [
    "virtual_user_df.to_excel(\"가상유저_블로그_id_220502.xlsx\")"
   ]
  },
  {
   "cell_type": "code",
   "execution_count": 240,
   "metadata": {},
   "outputs": [],
   "source": [
    "sample_result_df.to_excel(\"sample_naver_blog_220502.xlsx\", index = False)"
   ]
  },
  {
   "cell_type": "code",
   "execution_count": null,
   "metadata": {},
   "outputs": [],
   "source": []
  },
  {
   "cell_type": "code",
   "execution_count": 243,
   "metadata": {},
   "outputs": [
    {
     "name": "stdout",
     "output_type": "stream",
     "text": [
      "img_name : LG전자 43NANO75KPA_생활속의 이득이 되는 정보를 수집하는 푸름나무_20210621_img_9.jpg, img_url : https://thisiswhymymomsmiled.com/wp-content/uploads/2021/06/20210621_191034-300x18.png\n",
      "img_name : 로보락 S7_은`s 기쁜하루_20220226_img_17.jpg, img_url : https://tble.kr/camimg.php?tcode=MjIyNjQzLW5pZF8yMzk4NzQyMS0yMzUxMDcz\n",
      "img_name : 로보락 S7_Bling Blossom_20211217_img_10.jpg, img_url : https://tble.kr/camimg.php?tcode=MjA1MDQwLW5pZF85MzA0ODMwNC0yMDg2ODg4\n"
     ]
    }
   ],
   "source": [
    "parallelize_dataframe(df = sample_result_df, func = save_images_par, group_keys = \"keyword\", num_cores = 60)"
   ]
  },
  {
   "cell_type": "code",
   "execution_count": 29,
   "metadata": {},
   "outputs": [],
   "source": []
  },
  {
   "cell_type": "code",
   "execution_count": 17,
   "metadata": {},
   "outputs": [],
   "source": [
    "pd.DataFrame(result_dict).to_parquet(\"blog_data_220312.parquet\", index = False)"
   ]
  },
  {
   "cell_type": "code",
   "execution_count": 7,
   "metadata": {},
   "outputs": [],
   "source": [
    "pd.DataFrame(result_dict).to_excel(\"blog_data_220501.xlsx\", index = False, encoding = \"CP949\")"
   ]
  },
  {
   "cell_type": "code",
   "execution_count": 205,
   "metadata": {},
   "outputs": [],
   "source": [
    "virtual_user_df.to_excel(\"가상유저_블로그_id_220502.xlsx\")"
   ]
  },
  {
   "cell_type": "code",
   "execution_count": 177,
   "metadata": {},
   "outputs": [
    {
     "data": {
      "text/plain": [
       "array([ True])"
      ]
     },
     "execution_count": 177,
     "metadata": {},
     "output_type": "execute_result"
    }
   ],
   "source": [
    "virtual_user_df.loc[virtual_user_df[\"번호\"] == user_id, \"blog_list\"].index == 1"
   ]
  },
  {
   "cell_type": "code",
   "execution_count": null,
   "metadata": {},
   "outputs": [],
   "source": [
    "virtual_user_df.loc[virtual_user_df[\"번호\"] == user_id, \"blog_list\"]"
   ]
  },
  {
   "cell_type": "code",
   "execution_count": 141,
   "metadata": {},
   "outputs": [
    {
     "data": {
      "text/plain": [
       "300    blog_301\n",
       "301    blog_302\n",
       "302    blog_303\n",
       "303    blog_304\n",
       "304    blog_305\n",
       "         ...   \n",
       "535    blog_536\n",
       "536    blog_537\n",
       "537    blog_538\n",
       "538    blog_539\n",
       "539    blog_540\n",
       "Name: id, Length: 240, dtype: object"
      ]
     },
     "execution_count": 141,
     "metadata": {},
     "output_type": "execute_result"
    }
   ],
   "source": [
    "sample_result_df.loc[sample_result_df[\"알파카테고리\"] == category, \"id\"]"
   ]
  },
  {
   "cell_type": "code",
   "execution_count": 118,
   "metadata": {},
   "outputs": [],
   "source": [
    "category_user = virtual_user_df.loc[virtual_user_df[\"음향/사운드\"] == \"O\"]\n",
    "num_user = category_user.shape[0]"
   ]
  },
  {
   "cell_type": "code",
   "execution_count": null,
   "metadata": {},
   "outputs": [],
   "source": []
  }
 ],
 "metadata": {
  "kernelspec": {
   "display_name": "Python 3",
   "language": "python",
   "name": "python3"
  },
  "language_info": {
   "codemirror_mode": {
    "name": "ipython",
    "version": 3
   },
   "file_extension": ".py",
   "mimetype": "text/x-python",
   "name": "python",
   "nbconvert_exporter": "python",
   "pygments_lexer": "ipython3",
   "version": "3.10.6 (main, Nov 14 2022, 16:10:14) [GCC 11.3.0]"
  },
  "orig_nbformat": 4,
  "vscode": {
   "interpreter": {
    "hash": "916dbcbb3f70747c44a77c7bcd40155683ae19c65e1c03b4aa3499c5328201f1"
   }
  }
 },
 "nbformat": 4,
 "nbformat_minor": 2
}
